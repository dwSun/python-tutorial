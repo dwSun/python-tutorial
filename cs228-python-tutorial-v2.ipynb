{
 "cells": [
  {
   "cell_type": "markdown",
   "metadata": {},
   "source": [
    "# Python 教程"
   ]
  },
  {
   "cell_type": "markdown",
   "metadata": {},
   "source": [
    "## Python介绍与安装\n",
    "### 历史"
   ]
  },
  {
   "cell_type": "markdown",
   "metadata": {},
   "source": [
    "Python的创始人为Guido van Rossum。1989年圣诞节期间，在阿姆斯特丹，Guido为了打发圣诞节的无趣，决心开发一个新的脚本解释程序，作为ABC 语言的一种继承。之所以选中Python（大蟒蛇的意思）作为该编程语言的名字，是因为他是一个叫Monty Python的喜剧团体的爱好者。\n",
    "\n",
    "Python本身是一门通用编程语言，借助各种功能强大的扩展库(numpy, scipy, matplotlib) ，python成为了科学计算领域不可或缺的一种必备技能。\n",
    "\n",
    "同时随着AI领域的发展，以Python作为API interface的各种AI框架的流行，Python成为了从事AI研发领域的人员必备技能之一。"
   ]
  },
  {
   "cell_type": "markdown",
   "metadata": {},
   "source": [
    "### Python2/3选择\n",
    "由于历史原因，Python目前有2.x和3.x两个主要版本正在发行，2.x和3.x的语法有一些细节不同。这导致两个版本的代码很多时候不通用。\n",
    "\n",
    "曾经，启动Python项目的时候，一般都面临版本选择的问题。如果是需要在一些比较陈旧的系统环境上运行，抑或要使用一些特殊的库，而同时这些库又没有python3版本的情况下，就需要使用python2.x系列。如果要使用一些比较新的库，那么python3.x是一个比较好的选择。\n",
    "\n",
    "版本的选择，让很多初学者无所适从。同时支持两个版本系列，也让各扩展库的开发者耗费了大量的精力。\n",
    "\n",
    "基于此种状况，Python社区决定，自2020年1月1日，python2.x系列不再提供社区支持。同时，很多扩展库，如numpy，matplotlib等，也宣布不再继续支持python2.x系列。\n",
    "\n",
    "因此python3.x成为了目前最直接的选择。本教程不再介绍python2.x语法。\n",
    "\n",
    "值得一提的是，python2.x只是不再提供社区支持，付费商业支持还是有提供的，所以已经存在的商业软件，不受影响，但社区仍然推荐尽快切换到python3.x系列。\n",
    "\n",
    "#### 3.x版本选择\n",
    "此教程编写的时候，官网能下载到的最新python版本是3.7.3，目前常用的各个科学计算库以及AI框架也都支持3.7系列。因此不管在哪个系统上安装，直接装最新版本即可。\n",
    "> 如果python3.8发布，那么发布时刻短时间内，各框架未适配的情况下，仍然需要安装3.7版本的Python。这种情况请区别对待。"
   ]
  },
  {
   "cell_type": "markdown",
   "metadata": {},
   "source": [
    "### win/mac/linux的python下载安装\n",
    "不管是在哪个环境下，python的安装都有三种常用的不同的方式可以选择：\n",
    "- 源代码编译安装\n",
    "- 原生安装\n",
    "    - win下安装包安装\n",
    "    - mac下安装包安装\n",
    "    - linux下通过包管理器安装\n",
    "- anaconda/miniconda安装\n",
    "\n",
    "#### 源代码编译安装\n",
    "此种安装方式最不推荐，仅在确实必要的情况下使用此种安装方式。\n",
    ">编译安装，由于可以使用目标平台的特定指令集，所以性能会有一定的提升（经验值在10%～30左右）。\n",
    "\n",
    "#### 原生安装\n",
    "**对于初学者来说，这是最推荐的安装方式，其他安装方式，都会引入其他比较复杂的步骤，比较适合有一定经验的用户**。\n",
    "##### win下安装包安装\n",
    "以3.7.3为例，去https://www.python.org/downloads/release/python-373/ 下载“Windows x86-64 executable installer”安装包名称为python-3.7.3-amd64.exe，下载后双击安装即可。\n",
    "需要注意，安装过程中，一定要勾选PIP（Python包管理器），IDLE（Python自带的IDE）安装选项。同时为了使用方便，一定要勾选 “Add to PATH”选项。\n",
    "##### mac下安装包安装\n",
    "以3.7.3为例，去https://www.python.org/downloads/release/python-373/ 下载“macOS 64-bit installer”安装包名称为python-3.7.3-macosx10.9.pkg，下载后双击安装。\n",
    "需要注意，安装过程中，一定要勾选PIP（Python包管理器），IDLE（Python自带的IDE）安装选项。同时为了使用方便，一定要勾选 “Add to PATH”选项。\n",
    "> 注意，Mac自带了python2.x版本，使用的时候一定注意启动的是哪个版本。\n",
    "##### linux下通过包管理器安装\n",
    "以ubuntu18.04为例，直接执行以下命令安装即可：\n",
    "```sh\n",
    "sudo apt install python3 python3-pip\n",
    "```\n",
    "\n",
    "#### anaconda/miniconda安装\n",
    "Anaconda是一个开源的包、环境管理器，可以用于在同一个机器上安装不同版本的软件包及其依赖，并能够在不同的环境之间切换，因为包含了大量的科学包，Anaconda 的下载文件比较大（500 MB以上），如果只需要某些包，或者需要节省带宽或存储空间，也可以使用Miniconda这个较小的发行版（仅包含conda和 Python）。\n",
    "> anaconda/miniconda不仅可管理python的版本，还能管理其他一些科学计算库，是一个通用的环境管理器。\n",
    "\n",
    "可以去https://www.anaconda.com/distribution/#download-section 下载windows/mac/linux版本的安装 包进行安装。\n",
    "请到https://docs.anaconda.com/anaconda/install/ 下查找相关安装文档。\n",
    "\n",
    "\n",
    "miniconda请到https://docs.conda.io/en/latest/miniconda.html 下载，安装文档请参考https://conda.io/projects/conda/en/latest/user-guide/install/index.html\n",
    "\n",
    "> anaconda安装包过大，使用也比较复杂，推荐有一定经验的用户使用。miniconda作为anaconda的一个基础版本，安装包比较小，使用也比较灵活，相较与anaconda，本文作者更推荐使用miniconda。\n",
    "\n",
    "**anaconda/miniconda安装后，会自动设置系统的环境变量，默认使用自带的python，这在系统环境比较复杂的情况下可能会导致一些严重问题，请一定注意这种情况**。\n",
    "\n",
    "\n"
   ]
  },
  {
   "cell_type": "markdown",
   "metadata": {},
   "source": [
    "### win/mac/linux的python下使用（python console与cmd/shell）\n",
    "\n",
    "安装完成之后，可以直接在命令行/terminal中执行python3,进入python shell，不管在哪个系统上，都可以看到类似下面的提示：\n",
    "```sh\n",
    "Python 3.7.3 (default, Apr  3 2019, 05:39:12) \n",
    "[GCC 8.3.0] on linux\n",
    "Type \"help\", \"copyright\", \"credits\" or \"license\" for more information.\n",
    ">>> \n",
    "```\n",
    "> windows和mac上面，一定注意安装的时候，勾选 “Add to PATH”选项。\n",
    "\n",
    "这里需要注意的是，执行完python3程序进入的python shell，只能输入python代码，不能执行windows下cmd里面的命令或者mac/linux下terminal命令（如 ls ，mv，rm，cp等命令都是命令行执行，不是python代码）。\n",
    "\n",
    "也可以通过IDLE启动python，各个系统上启动IDLE方式不太一样，这里不再赘述。\n",
    "\n",
    ">IDLE 自带python shell和一个简单的文本编辑器，虽然功能很有限，但是已经足够日常使用。"
   ]
  },
  {
   "cell_type": "markdown",
   "metadata": {},
   "source": [
    "### pip使用\n",
    "前文提到，python拥有庞大的生态系统支持，数量众多质量优良的各种扩展库极大的扩充了python的能力，让python成为了各个领域的不二之选。包的安装和使用也是python的必备技能之一。\n",
    "\n",
    "pip是python自己的包管理器，pyi则是python官方的包仓库，其官方网址为https://pypi.org/ ,截止本文编写之时，pypi仓库里面已经有179950个项目，可以为pyton提供功能上的扩展。\n",
    "\n",
    "> pypi仓库服务器本身位于海外，访问速度比较慢，为了解决这个问题，可以使用tuna，ali，163，中科大等的国内pypi镜像，具体步骤可以666,有很多相关资料，各镜像源也有相关的配置文档，这里不再赘述。\n",
    "\n",
    "本教程中，python安装的时候，就已经要求读者安装pip工具，所以后续内容默认pip已经安装。\n",
    "常用命令如下：\n",
    "```sh\n",
    "pip install numpy # 安装numpy\n",
    "pip install numpy==1.14.6 # 安装1.14.6版本的numpy\n",
    "pip install -U numpy # 安装或者升级numpy\n",
    "pip uninstall numpy # 卸载numpy\n",
    "pip search numpy # 在pypi中查找numpy\n",
    "pip --help # 显示帮助文档\n",
    "pip -V # 显示版本信息\n",
    "pip install -r requirements.txt # 一个个安装太麻烦了，可以把所有的库和相应版本都写到requirements.txt文件中，一次性安装，特别适合项目环境配置。\n",
    "```\n",
    "> 如果系统中同时安装有python2.x python3.x，则有可能出现pip/pip2/pip3等不同的名字的pip，这时，pip2一定是python2.x版本的，pip3一定是python3.x版本的，但是pip不一定是哪个版本，请一定要注意此类问题。\n",
    "\n",
    "由于pip安装库的时候，需要联网下载相关库和依赖库的安装文件，所以请一定保证网络流畅可用，或者可以选择使用国内的pypi仓库镜像。\n",
    "\n"
   ]
  },
  {
   "cell_type": "markdown",
   "metadata": {},
   "source": [
    "## Python基础语法"
   ]
  },
  {
   "cell_type": "markdown",
   "metadata": {},
   "source": [
    "Python是一门动态强类型语言，由于其代码在拥有强大的程序表达能力的同时，还具备高度的可读性，因此很多时候被称为一门类伪代码的语言。下面是一个python代码的快速排序例子。进作为示例，这里不做展开。"
   ]
  },
  {
   "cell_type": "code",
   "execution_count": 1,
   "metadata": {},
   "outputs": [
    {
     "name": "stdout",
     "output_type": "stream",
     "text": [
      "[1, 1, 2, 3, 6, 8, 10]\n"
     ]
    }
   ],
   "source": [
    "def quicksort(arr):\n",
    "    if len(arr) <= 1:\n",
    "        return arr\n",
    "    pivot = arr[len(arr) // 2]\n",
    "    left = [x for x in arr if x < pivot]\n",
    "    middle = [x for x in arr if x == pivot]\n",
    "    right = [x for x in arr if x > pivot]\n",
    "    return quicksort(left) + middle + quicksort(right)\n",
    "\n",
    "\n",
    "print((quicksort([3, 6, 8, 10, 1, 2, 1])))"
   ]
  },
  {
   "cell_type": "markdown",
   "metadata": {},
   "source": [
    "### 缩进"
   ]
  },
  {
   "cell_type": "markdown",
   "metadata": {},
   "source": [
    "与C语言，Java等语言使用大括号来标记语法边界不同，python中强制使用缩进来标记代码的语法边界 ，拥有同一缩进层级的代码属于同一个语法层次。\n",
    "\n",
    "缩进可以使用tab，也可以使用空格，因为tab在各个编辑器上定义的宽度不同，所以为了代码的可读性，推荐使用空格进行代码的缩进。需要注意的是，虽然python规定必须使用缩进来标记语法边界，但是并未规定使用多少个字符作为一个缩进单位。因此空格或者tab的数量很灵活。google的代码，多使用两个空格进行缩进，这样复杂的，拥有多个缩进层次的代码，一行可以占用比较少的字符数量。\n",
    "\n",
    ">甚至还有人使用3个空格作为一个缩进单位。\n",
    "\n"
   ]
  },
  {
   "cell_type": "markdown",
   "metadata": {},
   "source": [
    "### 关键字\n",
    "python中关键字如下代码所示，需要注意，有些常用功能如len，dir，print等为内建函数，不是关键字。"
   ]
  },
  {
   "cell_type": "code",
   "execution_count": 2,
   "metadata": {},
   "outputs": [
    {
     "name": "stdout",
     "output_type": "stream",
     "text": [
      "['False', 'None', 'True', 'and', 'as', 'assert', 'async', 'await', 'break', 'class', 'continue', 'def', 'del', 'elif', 'else', 'except', 'finally', 'for', 'from', 'global', 'if', 'import', 'in', 'is', 'lambda', 'nonlocal', 'not', 'or', 'pass', 'raise', 'return', 'try', 'while', 'with', 'yield']\n"
     ]
    }
   ],
   "source": [
    "import keyword\n",
    "print(keyword.kwlist)"
   ]
  },
  {
   "cell_type": "markdown",
   "metadata": {},
   "source": [
    "重定义关键字是非法行为，会导致错误。"
   ]
  },
  {
   "cell_type": "code",
   "execution_count": 3,
   "metadata": {},
   "outputs": [
    {
     "ename": "SyntaxError",
     "evalue": "invalid syntax (<ipython-input-3-a3fd417c5b1e>, line 1)",
     "output_type": "error",
     "traceback": [
      "\u001b[0;36m  File \u001b[0;32m\"<ipython-input-3-a3fd417c5b1e>\"\u001b[0;36m, line \u001b[0;32m1\u001b[0m\n\u001b[0;31m    and = 1\u001b[0m\n\u001b[0m      ^\u001b[0m\n\u001b[0;31mSyntaxError\u001b[0m\u001b[0;31m:\u001b[0m invalid syntax\n"
     ]
    }
   ],
   "source": [
    "and = 1"
   ]
  },
  {
   "cell_type": "markdown",
   "metadata": {},
   "source": [
    "### 基础语法"
   ]
  },
  {
   "cell_type": "markdown",
   "metadata": {},
   "source": [
    "### 基础数据类型及相应运算\n",
    "作为一门通用编程语言，Python中也有整数，浮点数，布尔型，字符串这几中基础数据类型，并且这几种类型的操作与其他编程语言基本一致。"
   ]
  },
  {
   "cell_type": "markdown",
   "metadata": {},
   "source": [
    "#### 数字"
   ]
  },
  {
   "cell_type": "code",
   "execution_count": null,
   "metadata": {},
   "outputs": [],
   "source": [
    "x = 3\n",
    "print((x, type(x)))"
   ]
  },
  {
   "cell_type": "code",
   "execution_count": null,
   "metadata": {
    "scrolled": true
   },
   "outputs": [],
   "source": [
    "print(x + 1)   # 加法;\n",
    "print(x - 1)   # 减法;\n",
    "print(x * 2)   # 乘法;\n",
    "print(x ** 2)  # 指数运算;\n",
    "print(x / 2)  # divide除\n",
    "print(x // 2)  # 地板除，向下取整"
   ]
  },
  {
   "cell_type": "markdown",
   "metadata": {},
   "source": [
    "Python中也有复合运算符，但是没有++ --这种操作符。"
   ]
  },
  {
   "cell_type": "code",
   "execution_count": null,
   "metadata": {},
   "outputs": [],
   "source": [
    "x += 1\n",
    "print(x)\n",
    "x *= 2\n",
    "print(x) "
   ]
  },
  {
   "cell_type": "code",
   "execution_count": null,
   "metadata": {
    "scrolled": true
   },
   "outputs": [],
   "source": [
    "x++\n",
    "x--"
   ]
  },
  {
   "cell_type": "markdown",
   "metadata": {},
   "source": [
    "浮点数运算与整数基本相同，这里不再赘述。"
   ]
  },
  {
   "cell_type": "code",
   "execution_count": null,
   "metadata": {},
   "outputs": [],
   "source": [
    "y = 2.5\n",
    "print(type(y))  # Prints \"<type 'float'>\"\n",
    "print(y, y + 1, y * 2, y ** 2)  # Prints \"2.5 3.5 5.0 6.25\""
   ]
  },
  {
   "cell_type": "markdown",
   "metadata": {},
   "source": [
    "python也内建了复数运算的支持，关于python中算数运算的更详细内容，请参考这个文档https://docs.python.org/3/library/stdtypes.html#numeric-types-int-float-long-complex\n",
    "\n",
    ">和其他语言一样，python中的浮点数也有精度限制，对比两个浮点数的时候，不能使用==号比较。"
   ]
  },
  {
   "cell_type": "markdown",
   "metadata": {},
   "source": [
    "python数字是没有值域限制的，可以表示任意大的数字。"
   ]
  },
  {
   "cell_type": "code",
   "execution_count": null,
   "metadata": {
    "scrolled": true
   },
   "outputs": [],
   "source": [
    "'''\n",
    "x = 2  # 著名的国际象棋的故事\n",
    "for i in range(64):\n",
    "    x = x*2\n",
    "print(x) # 这个数字太大了，打印就要几十分钟\n",
    "'''\n",
    "\n",
    "x = 2 # 稍微改一下\n",
    "for i in range(16):\n",
    "    x = x**2\n",
    "print(x)"
   ]
  },
  {
   "cell_type": "markdown",
   "metadata": {},
   "source": [
    "python3.6中为了数字的显示方便，增加了数字的千分位符，如下，可以用横线来分割数字。"
   ]
  },
  {
   "cell_type": "code",
   "execution_count": 4,
   "metadata": {},
   "outputs": [
    {
     "name": "stdout",
     "output_type": "stream",
     "text": [
      "True\n"
     ]
    },
    {
     "data": {
      "text/plain": [
       "float"
      ]
     },
     "execution_count": 4,
     "metadata": {},
     "output_type": "execute_result"
    }
   ],
   "source": [
    "# 千分位符\n",
    "a = 368934881474191032321\n",
    "b = 368_934_881_474_191_032_321\n",
    "c = 123.456_789\n",
    "print(a == b)\n",
    "type(c)"
   ]
  },
  {
   "cell_type": "markdown",
   "metadata": {},
   "source": [
    "#### 布尔型"
   ]
  },
  {
   "cell_type": "code",
   "execution_count": 5,
   "metadata": {},
   "outputs": [
    {
     "name": "stdout",
     "output_type": "stream",
     "text": [
      "<class 'bool'>\n"
     ]
    }
   ],
   "source": [
    "t, f = True, False\n",
    "print(type(t))"
   ]
  },
  {
   "cell_type": "markdown",
   "metadata": {},
   "source": [
    "需要注意的是，有C语言背景的话，C语言里面True和False是0和1的宏定义，但是Python里面不是这样的，Python里面True和False是保留字，是一个单独的定义，不能与0,1混用，同时还有一个None类型，与C语言中的NULL类似，但是也不是0的宏定义。\n",
    "\n",
    "另外，python中逻辑运算全部用字母运算符表示，而且是保留关键字，这样能够避免语法的一些混乱。"
   ]
  },
  {
   "cell_type": "code",
   "execution_count": 6,
   "metadata": {},
   "outputs": [
    {
     "name": "stdout",
     "output_type": "stream",
     "text": [
      "False\n",
      "True\n",
      "False\n",
      "True\n",
      "False\n",
      "False\n",
      "<class 'NoneType'>\n"
     ]
    }
   ],
   "source": [
    "print(t and f)  # 逻辑与;\n",
    "print(t or f)  # 逻辑或;\n",
    "print(not t)   # 逻辑非;\n",
    "print(t != f)  # 逻辑异或;\n",
    "print(None == 1)\n",
    "print(None == False)\n",
    "print(type(None))"
   ]
  },
  {
   "cell_type": "markdown",
   "metadata": {},
   "source": [
    "#### 字符串"
   ]
  },
  {
   "cell_type": "markdown",
   "metadata": {},
   "source": [
    "在C或者java中使用字符串的时候，字符串中间插入单双引号需要进行转义，而python中为了解决这类问题，直接将单双引号等价，都可以用来定义字符串，而且是等价的，所以可以在一个字符串里面根据需要混用两种引号。对于多行字符串，还可以使用三单引号来定义。"
   ]
  },
  {
   "cell_type": "code",
   "execution_count": 7,
   "metadata": {},
   "outputs": [
    {
     "name": "stdout",
     "output_type": "stream",
     "text": [
      "hel\"lo! 7\n",
      "\n",
      "'hello'\n",
      "world\n",
      "\n"
     ]
    }
   ],
   "source": [
    "hello = 'hel\"lo!'\n",
    "world = \"w'r'ld\"\n",
    "hello_world = '''\n",
    "'hello'\n",
    "world\n",
    "'''\n",
    "print(hello, len(hello))\n",
    "print(hello_world)"
   ]
  },
  {
   "cell_type": "code",
   "execution_count": 8,
   "metadata": {
    "scrolled": true
   },
   "outputs": [
    {
     "name": "stdout",
     "output_type": "stream",
     "text": [
      "hel\"lo! w'r'ld\n",
      "hel\"lo!22.1\n",
      "2 2.1\n"
     ]
    }
   ],
   "source": [
    "hw = hello + ' ' + world\n",
    "print(hw)\n",
    "x = 2\n",
    "y = 2.1\n",
    "print(hello + str(x) + str(y)) # 数字转换成字符串\n",
    "print(int(str(x)), float(str(y))) # 同样的，字符串也可以转换成数字"
   ]
  },
  {
   "cell_type": "code",
   "execution_count": 9,
   "metadata": {},
   "outputs": [
    {
     "name": "stdout",
     "output_type": "stream",
     "text": [
      "hel\"lo! w'r'ld 12 123.46\n",
      "hel\"lo! w'r'ld 12 123.46\n",
      "hel\"lo! w'r'ld 123.46\n"
     ]
    }
   ],
   "source": [
    "hw12 = '%s %s %d %.2f' % (hello, world, 12, 123.4567)  # 老式C风格字符串格式化\n",
    "print(hw12)  # prints \"hello world 12\"\n",
    "hw13 = '{0} {1} {2} {3:.2f}'.format(\n",
    "    hello, world, 12, 123.4567)  # python风格字符串格式化\n",
    "print(hw13)\n",
    "x = 123.4567\n",
    "hwf = f'{hello} {world} {x:.2f}'  # python3.6以后才支持的f格式化\n",
    "print(hwf)\n"
   ]
  },
  {
   "cell_type": "code",
   "execution_count": 10,
   "metadata": {},
   "outputs": [
    {
     "name": "stdout",
     "output_type": "stream",
     "text": [
      "\n",
      "\n",
      "'\n",
      "h\n",
      "e\n",
      "l\n",
      "l\n",
      "o\n",
      "'\n",
      "\n",
      "\n",
      "w\n",
      "o\n",
      "r\n",
      "l\n",
      "d\n",
      "\n",
      "\n"
     ]
    }
   ],
   "source": [
    "for char in hello_world: # 字符串也可以被for in,虽然这种用法的场景比较少\n",
    "    print(char)"
   ]
  },
  {
   "cell_type": "markdown",
   "metadata": {},
   "source": [
    "字符串内建了一系列有用的方法："
   ]
  },
  {
   "cell_type": "code",
   "execution_count": 11,
   "metadata": {
    "scrolled": true
   },
   "outputs": [
    {
     "name": "stdout",
     "output_type": "stream",
     "text": [
      "Hello\n",
      "HELLO\n",
      "  hello\n",
      " hello \n",
      "he(ell)(ell)o\n",
      "world\n"
     ]
    }
   ],
   "source": [
    "s = \"hello\"\n",
    "print(s.capitalize())  # 首字母大写\n",
    "print(s.upper())       # 大写\n",
    "print(s.rjust(7))# 右边空格补齐\n",
    "print(s.center(7))     # 剧中对齐\n",
    "print(s.replace('l', '(ell)')) # 搜索替换\n",
    "print('  world '.strip()) # 删除空白字符"
   ]
  },
  {
   "cell_type": "markdown",
   "metadata": {},
   "source": [
    "更详细的字符串相关文档，可以查阅https://docs.python.org/3/library/stdtypes.html#string-methods\n",
    "\n",
    ">字符串也可以作为一个序列对象被遍历 ，后续会介绍到。"
   ]
  },
  {
   "cell_type": "markdown",
   "metadata": {},
   "source": [
    "#### bytes\n",
    "bytes一般是跟字符串一起使用的,同时作为计算机中对数据的原始表示,bytes也有自己独特的用途."
   ]
  },
  {
   "cell_type": "code",
   "execution_count": 12,
   "metadata": {},
   "outputs": [
    {
     "name": "stdout",
     "output_type": "stream",
     "text": [
      "this is a bytes\n",
      "b'this is a string'\n",
      "this is a bytes\n",
      "b'this is a string'\n",
      "this is a bytes\n",
      "b'this is a string'\n",
      "b'\\xe8\\xbf\\x99\\xe6\\x98\\xaf\\xe4\\xb8\\xaa\\xe5\\xad\\x97\\xe7\\xac\\xa6\\xe4\\xb8\\xb2'\n",
      "b'\\xd5\\xe2\\xca\\xc7\\xb8\\xf6\\xd7\\xd6\\xb7\\xfb\\xb4\\xae'\n"
     ]
    },
    {
     "ename": "UnicodeEncodeError",
     "evalue": "'ascii' codec can't encode characters in position 0-5: ordinal not in range(128)",
     "output_type": "error",
     "traceback": [
      "\u001b[0;31m---------------------------------------------------------------------------\u001b[0m",
      "\u001b[0;31mUnicodeEncodeError\u001b[0m                        Traceback (most recent call last)",
      "\u001b[0;32m<ipython-input-12-9389f1f456d0>\u001b[0m in \u001b[0;36m<module>\u001b[0;34m\u001b[0m\n\u001b[1;32m     11\u001b[0m \u001b[0mprint\u001b[0m\u001b[0;34m(\u001b[0m\u001b[0;34m'这是个字符串'\u001b[0m\u001b[0;34m.\u001b[0m\u001b[0mencode\u001b[0m\u001b[0;34m(\u001b[0m\u001b[0mencoding\u001b[0m\u001b[0;34m=\u001b[0m\u001b[0;34m'utf-8'\u001b[0m\u001b[0;34m)\u001b[0m\u001b[0;34m)\u001b[0m\u001b[0;34m\u001b[0m\u001b[0;34m\u001b[0m\u001b[0m\n\u001b[1;32m     12\u001b[0m \u001b[0mprint\u001b[0m\u001b[0;34m(\u001b[0m\u001b[0;34m'这是个字符串'\u001b[0m\u001b[0;34m.\u001b[0m\u001b[0mencode\u001b[0m\u001b[0;34m(\u001b[0m\u001b[0mencoding\u001b[0m\u001b[0;34m=\u001b[0m\u001b[0;34m'gb2312'\u001b[0m\u001b[0;34m)\u001b[0m\u001b[0;34m)\u001b[0m  \u001b[0;31m# 同一个字符串,用不同的编码方式得到的bytes是不一样的\u001b[0m\u001b[0;34m\u001b[0m\u001b[0;34m\u001b[0m\u001b[0m\n\u001b[0;32m---> 13\u001b[0;31m \u001b[0mprint\u001b[0m\u001b[0;34m(\u001b[0m\u001b[0;34m'这是个字符串'\u001b[0m\u001b[0;34m.\u001b[0m\u001b[0mencode\u001b[0m\u001b[0;34m(\u001b[0m\u001b[0mencoding\u001b[0m\u001b[0;34m=\u001b[0m\u001b[0;34m'ascii'\u001b[0m\u001b[0;34m)\u001b[0m\u001b[0;34m)\u001b[0m\u001b[0;34m\u001b[0m\u001b[0;34m\u001b[0m\u001b[0m\n\u001b[0m\u001b[1;32m     14\u001b[0m \u001b[0;31m# 有的字符串字符不再某些编码体系中,也就无法使用对应的编码\u001b[0m\u001b[0;34m\u001b[0m\u001b[0;34m\u001b[0m\u001b[0;34m\u001b[0m\u001b[0m\n\u001b[1;32m     15\u001b[0m \u001b[0;31m# 一般出现UnicodeEncodeError,是选错了编码导致的\u001b[0m\u001b[0;34m\u001b[0m\u001b[0;34m\u001b[0m\u001b[0;34m\u001b[0m\u001b[0m\n",
      "\u001b[0;31mUnicodeEncodeError\u001b[0m: 'ascii' codec can't encode characters in position 0-5: ordinal not in range(128)"
     ]
    }
   ],
   "source": [
    "b = b'this is a bytes'  # bytes的定义,在python3中是以b开头的.\n",
    "print(b.decode())  # bytes 经过decode可以转化成string\n",
    "print('this is a string'.encode())  # 同样的,string也可以通过encode转化成bytes\n",
    "\n",
    "print(b.decode(encoding='ascii'))  # ascii是默认的转换编码方式\n",
    "print('this is a string'.encode(encoding='ascii'))  #\n",
    "\n",
    "print(b.decode(encoding='utf-8'))  # 在编码兼容的情况下,也可以换其他编码处理\n",
    "print('this is a string'.encode(encoding='utf-8'))  #\n",
    "\n",
    "print('这是个字符串'.encode(encoding='utf-8'))\n",
    "print('这是个字符串'.encode(encoding='gb2312'))  # 同一个字符串,用不同的编码方式得到的bytes是不一样的\n",
    "print('这是个字符串'.encode(encoding='ascii'))\n",
    "# 有的字符串字符不再某些编码体系中,也就无法使用对应的编码\n",
    "# 一般出现UnicodeEncodeError,是选错了编码导致的\n"
   ]
  },
  {
   "cell_type": "markdown",
   "metadata": {},
   "source": [
    "### 注释\n",
    "python可以使用不同风格的注释来对代码进行解释"
   ]
  },
  {
   "cell_type": "code",
   "execution_count": 13,
   "metadata": {},
   "outputs": [
    {
     "data": {
      "text/plain": [
       "'\\nx = 1\\ny =2 \\n对于需要临时注释掉的代码，可以使用多行注释来处理\\n因为字符串的左右边界字符是完全一样的，\\n所以一定注意不管使用单引号双引号还是三引号，都一定要成对使用\\n'"
      ]
     },
     "execution_count": 13,
     "metadata": {},
     "output_type": "execute_result"
    }
   ],
   "source": [
    "x = 1  # 这是一个单行注释\n",
    "# 这也是一个单行注释\n",
    "'任何一个没有变量承接的字符串都可以作为一个注释'\n",
    "\n",
    "'''\n",
    "python中没有单独的多行注释语法，\n",
    "多行注释通过多行字符串来实现\n",
    "'''\n",
    "\n",
    "'''\n",
    "x = 1\n",
    "y =2 \n",
    "对于需要临时注释掉的代码，可以使用多行注释来处理\n",
    "因为字符串的左右边界字符是完全一样的，\n",
    "所以一定注意不管使用单引号双引号还是三引号，都一定要成对使用\n",
    "'''\n"
   ]
  },
  {
   "cell_type": "markdown",
   "metadata": {},
   "source": [
    "### 变量\n",
    "python为动态强类型语言，变量可以声明即定义，或者都在某些特定场合先声明后定义。"
   ]
  },
  {
   "cell_type": "code",
   "execution_count": 14,
   "metadata": {},
   "outputs": [
    {
     "name": "stdout",
     "output_type": "stream",
     "text": [
      "1 <class 'int'>\n"
     ]
    }
   ],
   "source": [
    "a = 1\n",
    "print(a, type(a)) # 可以使用type内建函数，获得变量的类型。"
   ]
  },
  {
   "cell_type": "code",
   "execution_count": 15,
   "metadata": {},
   "outputs": [
    {
     "name": "stdout",
     "output_type": "stream",
     "text": [
      "4\n",
      "3\n",
      "2\n"
     ]
    }
   ],
   "source": [
    "b = 2 \n",
    "def fun():\n",
    "    '''\n",
    "    与其他语言一样，函数内部定义的变量会隐藏外部同名变量，\n",
    "    这里函数内外的b是两个完全独立的变量\n",
    "    '''\n",
    "    b = 3\n",
    "    def fun_inner():\n",
    "        '''\n",
    "       这是一个内嵌函数，一般来说这种使用方式应该避免，但是在使用装饰器的时候，\n",
    "       比较常用这种定义，\n",
    "        '''\n",
    "        b = 4\n",
    "        print(b)\n",
    "    fun_inner()\n",
    "    print(b) \n",
    "fun()\n",
    "print(b)"
   ]
  },
  {
   "cell_type": "code",
   "execution_count": 16,
   "metadata": {},
   "outputs": [
    {
     "name": "stdout",
     "output_type": "stream",
     "text": [
      "3\n",
      "3\n"
     ]
    }
   ],
   "source": [
    "b = 2 \n",
    "def fun():\n",
    "    '''\n",
    "    使用gloab可以让函数内部能够够访问外部变量定义而不会引起覆盖\n",
    "    '''\n",
    "    global b\n",
    "    b = 3\n",
    "    print(b) \n",
    "fun()\n",
    "print(b)"
   ]
  },
  {
   "cell_type": "code",
   "execution_count": 17,
   "metadata": {},
   "outputs": [
    {
     "name": "stdout",
     "output_type": "stream",
     "text": [
      "4\n",
      "4\n",
      "2\n"
     ]
    }
   ],
   "source": [
    "b = 2\n",
    "\n",
    "\n",
    "def fun():\n",
    "    b = 3\n",
    "\n",
    "    def fun_inner():\n",
    "        '''\n",
    "        在内部函数中可以使用nonlocal来访问外部函数的变量，这种技术是在编程中称为闭包的一种技术的基础。\n",
    "        '''\n",
    "        nonlocal b\n",
    "        b = 4\n",
    "        print(b)\n",
    "    fun_inner()\n",
    "    print(b)\n",
    "\n",
    "\n",
    "fun()\n",
    "print(b)\n"
   ]
  },
  {
   "cell_type": "markdown",
   "metadata": {},
   "source": [
    "**下面是python中，关于变量的使用，有点坑的地方**"
   ]
  },
  {
   "cell_type": "code",
   "execution_count": 18,
   "metadata": {
    "scrolled": true
   },
   "outputs": [
    {
     "name": "stdout",
     "output_type": "stream",
     "text": [
      "1\n",
      "2\n",
      "3\n",
      "4\n",
      "5\n",
      "6\n",
      "7\n",
      "8\n",
      "9\n",
      "10\n",
      "9 10\n",
      "2\n",
      "10\n"
     ]
    }
   ],
   "source": [
    "for i in range(10):\n",
    "    inner_var2 = i+1\n",
    "    print(inner_var2)\n",
    "print(i, inner_var2)\n",
    "\n",
    "a = 1\n",
    "if a > 0:\n",
    "    inner_var = 2  # 这一句因为判断条件满足而被执行了。\n",
    "else:\n",
    "    inner_var2 = 3\n",
    "print(inner_var)\n",
    "# 这里，inner_var是在if语句中定义的，但是在if语句外面，这个变量仍然可以访问。\n",
    "# 同样的情况发生在for，while循环等语句中\n",
    "print(inner_var2)\n",
    "# 这里的inner_var2用的是上面的for循环中定义的inner_var2，而不是if语句中的，\n",
    "# 如果没有上面的for循环，这里应该是要报错的\n",
    "# 这是一种比较常见的问题，循环结束后，没有确认就重用了循环里面的变量\n"
   ]
  },
  {
   "cell_type": "markdown",
   "metadata": {},
   "source": [
    "**在python中，各语句不形成变量作用域，只有函数和class能够形成变量作用域**"
   ]
  },
  {
   "cell_type": "markdown",
   "metadata": {},
   "source": [
    "### 控制结构\n",
    "\n",
    "#### 循环\n",
    "python拥有比较独特的循环结构，特别方便在程序中使用。\n",
    "##### while循环"
   ]
  },
  {
   "cell_type": "code",
   "execution_count": 19,
   "metadata": {},
   "outputs": [
    {
     "name": "stdout",
     "output_type": "stream",
     "text": [
      "end while loop\n",
      "sum from 1 to 100 is: 5050\n"
     ]
    }
   ],
   "source": [
    "n = 100\n",
    "count = 0\n",
    "while n > 0:\n",
    "    count += n\n",
    "    n -= 1\n",
    "else:\n",
    "    print('end while loop') \n",
    "    # 当循环条件不满足的时候，这一行会被执行，平时比较少用，只在一些特殊的场合用到\n",
    "    # 如果没有这个else，使用if也可以进行判断，但要多写几行代码\n",
    "\n",
    "print(\"sum from 1 to %d is: %d\" % (100, count))"
   ]
  },
  {
   "cell_type": "markdown",
   "metadata": {},
   "source": [
    "##### range函数\n",
    "在介绍for循环之前，先介绍一下range函数，这个函数可以在需要使用数字序列的时候，产生一个我们需要的数字序列。\n",
    "**一定注意range的右边界不可达。**\n"
   ]
  },
  {
   "cell_type": "code",
   "execution_count": 20,
   "metadata": {},
   "outputs": [
    {
     "name": "stdout",
     "output_type": "stream",
     "text": [
      "[0, 1, 2, 3, 4]\n",
      "[0, 1, 2, 3, 4, 5, 6, 7, 8, 9]\n",
      "[0, 2, 4, 6, 8]\n",
      "[10, 9, 8, 7, 6, 5, 4, 3, 2, 1]\n",
      "range(10, 0, -1)\n"
     ]
    }
   ],
   "source": [
    "print(list(range(5))) # 默认从0开始\n",
    "print(list(range(0, 10,))) # 也可以手动指定起始\n",
    "print(list(range(0, 10, 2))) # 默认间隔为1,可以手动指定\n",
    "print(list(range(10, 0, -1)))# 甚至可以逆序\n",
    "print(range(10, 0, -1))# range生成的是一个generator，可以用于循环，\n",
    "                                            #但直接打印是无法打印出里面的数字的，必须包一个list"
   ]
  },
  {
   "cell_type": "markdown",
   "metadata": {},
   "source": [
    "##### for循环\n",
    "有了range，我们可以改写一下上面那个while循环了\n"
   ]
  },
  {
   "cell_type": "code",
   "execution_count": 21,
   "metadata": {
    "scrolled": false
   },
   "outputs": [
    {
     "name": "stdout",
     "output_type": "stream",
     "text": [
      "end for loop\n",
      "sum from 1 to 100 is: 5050\n"
     ]
    }
   ],
   "source": [
    "count = 0\n",
    "for i in range(101): # range右边界不可达\n",
    "    count += i\n",
    "else:\n",
    "    print('end for loop')  # for也有类似while的else结构\n",
    "print(\"sum from 1 to %d is: %d\" % (100, count))"
   ]
  },
  {
   "cell_type": "markdown",
   "metadata": {},
   "source": [
    "事实上 ，后续介绍的所有容器类型都可以使用for循环来遍历，详情参考后续内容。"
   ]
  },
  {
   "cell_type": "code",
   "execution_count": 22,
   "metadata": {
    "scrolled": true
   },
   "outputs": [
    {
     "data": {
      "text/plain": [
       "5050"
      ]
     },
     "execution_count": 22,
     "metadata": {},
     "output_type": "execute_result"
    }
   ],
   "source": [
    "sum(range(101)) # 上面的代码都是演示，对于这个求和，有更简单直观的代码解决"
   ]
  },
  {
   "cell_type": "markdown",
   "metadata": {},
   "source": [
    "##### break/continue\n",
    "\n",
    "循环中，并不一定需要针对所有的循环条件运行循环体，特别是有些特殊的行情况需要提前结束循环执行。"
   ]
  },
  {
   "cell_type": "code",
   "execution_count": 23,
   "metadata": {},
   "outputs": [
    {
     "name": "stdout",
     "output_type": "stream",
     "text": [
      "sum of odd number from 1 to 50 is: 676\n"
     ]
    }
   ],
   "source": [
    "count = 0\n",
    "for i in range(101):  # range右边界不可达\n",
    "    if i % 2 == 0:\n",
    "        continue\n",
    "    count += i\n",
    "    if i > 50:\n",
    "        break\n",
    "else:\n",
    "    print('end for loop')  # break的时候，并不是由于循环条件不满足，所以这一句没有执行\n",
    "print(\"sum of odd number from 1 to %d is: %d\" % (50, count))"
   ]
  },
  {
   "cell_type": "markdown",
   "metadata": {},
   "source": [
    "#### 分支\n",
    "python中的分支只有if，没有C/java等的switch结构\n",
    ">事实上，python里面也不需要switch结构，结合一些容器，遍历等语法，python的代码控制可以更加强大而简洁。"
   ]
  },
  {
   "cell_type": "code",
   "execution_count": 24,
   "metadata": {
    "scrolled": true
   },
   "outputs": [
    {
     "name": "stdout",
     "output_type": "stream",
     "text": [
      " 0 is a even number\n",
      "1 is a prime number\n",
      " 1 is a odd number\n",
      " 2 is a even number\n",
      "3 is a prime number\n",
      " 3 is a odd number\n",
      " 4 is a even number\n",
      "5 is a prime number\n",
      " 5 is a odd number\n",
      " 6 is a even number\n",
      "7 is a prime number\n",
      " 7 is a odd number\n",
      " 8 is a even number\n",
      "9 is a composite number\n",
      " 9 is a odd number\n"
     ]
    }
   ],
   "source": [
    "from math import sqrt\n",
    "for i in range(10):\n",
    "    if i % 2 == 0:\n",
    "        print(' {} is a even number'.format(i))  # 偶数\n",
    "    elif i % 2 != 0:  # 连续分支，可以替代switch结构\n",
    "        for j in range(2, int(sqrt(i) + 1)):  # 只针对奇数判断素数，偶数肯定是合数\n",
    "            if i % j == 0:\n",
    "                print('{} is a composite number'.format(i))\n",
    "                # 能被1和自己之外的数字整除，合数，后续计算没必要进行了\n",
    "                break\n",
    "                # else可以没有\n",
    "        else:  # 注意这里是for循环的else\n",
    "            print('{} is a prime number'.format(i))  # 只能被1和自己整除，所以是素数\n",
    "        print(' {} is a odd number'.format(i))  # 奇数\n",
    "    else:\n",
    "        print(' this not even possible for {}'.format(i))"
   ]
  },
  {
   "cell_type": "markdown",
   "metadata": {},
   "source": [
    "### 函数"
   ]
  },
  {
   "cell_type": "markdown",
   "metadata": {},
   "source": [
    "python里面，函数是由def来定义的："
   ]
  },
  {
   "cell_type": "code",
   "execution_count": 25,
   "metadata": {},
   "outputs": [
    {
     "name": "stdout",
     "output_type": "stream",
     "text": [
      "negative\n",
      "zero\n",
      "positive\n"
     ]
    }
   ],
   "source": [
    "def sign(x):\n",
    "    if x > 0:\n",
    "        return 'positive'\n",
    "    elif x < 0:\n",
    "        return 'negative'\n",
    "    else:\n",
    "        return 'zero'\n",
    "\n",
    "\n",
    "print(sign(-1))\n",
    "print(sign(0))\n",
    "print(sign(1))"
   ]
  },
  {
   "cell_type": "markdown",
   "metadata": {},
   "source": [
    "python的函数还可以接受带默认值的keyword参数"
   ]
  },
  {
   "cell_type": "code",
   "execution_count": 26,
   "metadata": {
    "scrolled": true
   },
   "outputs": [
    {
     "name": "stdout",
     "output_type": "stream",
     "text": [
      "Hello, Bob!\n",
      "HELLO, FRED\n",
      "HELLO, FRED\n",
      "HELLO, RAY\n"
     ]
    }
   ],
   "source": [
    "def hello(name, loud=False):\n",
    "    if loud:\n",
    "        print('HELLO, %s' % name.upper())\n",
    "    else:\n",
    "        print('Hello, %s!' % name)\n",
    "\n",
    "\n",
    "hello('Bob')\n",
    "hello('Fred', loud=True)\n",
    "hello('Fred', True)  # 不写keyword的情况下，也可以按照顺序判断传入的是哪个参数\n",
    "hello(loud=True, name='Ray')\n",
    "# python里面的参数，只要指定了name，\n",
    "#就可以识别，不需要按照定义的顺序给出"
   ]
  },
  {
   "cell_type": "markdown",
   "metadata": {},
   "source": [
    "##### 函数的参数\n",
    "Python函数还能够接受变长参数，也就是定义的时候，可以不规定参数，在运行的时候实时解析参数。"
   ]
  },
  {
   "cell_type": "code",
   "execution_count": 27,
   "metadata": {},
   "outputs": [
    {
     "name": "stdout",
     "output_type": "stream",
     "text": [
      "{'var5': 5, 'var6': 6}\n",
      "2 1 3 5\n",
      "##########\n",
      "(3, 4, 5)\n",
      "1 2\n",
      "(3, 4, 5)\n",
      "1 2\n",
      "##########\n",
      "{'var4': 5, 'var5': 6, 'var6': 6}\n",
      "(3, 4, 5)\n",
      "1 2\n",
      "##########\n",
      "{'var4': 5, 'var5': 6, 'var6': 6}\n",
      "(2, 3, 4, 5)\n",
      "1 3\n",
      "{'var4': 5, 'var5': 6, 'var6': 6}\n",
      "(2, 3, 4, 5)\n",
      "1 100\n"
     ]
    }
   ],
   "source": [
    "def fun(var1, var2, var3=3, var4=4, **kw):\n",
    "    '''\n",
    "    kw即为可变参数，任何传入了，但不属于前面定义的已知参数都会被收集到这个kw里面供处理\n",
    "    这个kw为python里面字典类型，关于字典类型参考后面的介绍\n",
    "    '''\n",
    "\n",
    "    print(kw)\n",
    "    print(var1, var2, var3, var4)\n",
    "\n",
    "\n",
    "fun(2, 1, var4=5, var5=5, var6=6)\n",
    "print('#' * 10)\n",
    "\n",
    "\n",
    "def fun2(var1, var2=3, *var3):\n",
    "    '''\n",
    "    对于不带keyword的顺序参数，可以使用星号语法进行收集\n",
    "    '''\n",
    "    print(var3)\n",
    "    print(var1, var2)\n",
    "\n",
    "\n",
    "fun2(1, 2, 3, 4, 5)\n",
    "fun2(1, 2, *[3, 4, 5])  # 星号语法能收集参数，也可以用来传递参数。\n",
    "print('#' * 10)\n",
    "\n",
    "\n",
    "def fun3(var1, var2=3, *var3, **kw):\n",
    "    '''\n",
    "    顺序参数，keyword参数，和变长参数可以结合起来使用\n",
    "    '''\n",
    "    print(kw)\n",
    "    print(var3)\n",
    "    print(var1, var2)\n",
    "\n",
    "\n",
    "fun3(1, 2, *[3, 4, 5], **{'var4': 5, 'var5': 6, 'var6': 6})\n",
    "# 星号语法也可以用来传递字典类型的参数\n",
    "\n",
    "print('#' * 10)\n",
    "\n",
    "\n",
    "def fun4(var1, *var3, var2=3, **kw):\n",
    "    '''\n",
    "    需要注意这种情况，var2只能由keyword传入，不然就被var3收集起来了\n",
    "    '''\n",
    "    print(kw)\n",
    "    print(var3)\n",
    "    print(var1, var2)\n",
    "\n",
    "\n",
    "fun4(1, 2, *[3, 4, 5], **{'var4': 5, 'var5': 6, 'var6': 6})\n",
    "fun4(1, 2, *[3, 4, 5], var2=100, **{'var4': 5, 'var5': 6, 'var6': 6})"
   ]
  },
  {
   "cell_type": "code",
   "execution_count": 28,
   "metadata": {
    "scrolled": false
   },
   "outputs": [
    {
     "ename": "SyntaxError",
     "evalue": "invalid syntax (<ipython-input-28-cdb62a5c83f2>, line 1)",
     "output_type": "error",
     "traceback": [
      "\u001b[0;36m  File \u001b[0;32m\"<ipython-input-28-cdb62a5c83f2>\"\u001b[0;36m, line \u001b[0;32m1\u001b[0m\n\u001b[0;31m    def fun5(var1,  *var3,  **kw,var2=3):\u001b[0m\n\u001b[0m                                    ^\u001b[0m\n\u001b[0;31mSyntaxError\u001b[0m\u001b[0;31m:\u001b[0m invalid syntax\n"
     ]
    }
   ],
   "source": [
    "def fun5(var1,  *var3,  **kw,var2=3):\n",
    "    '''\n",
    "    当结合使用的时候，定义函数要遵守以下规则：\n",
    "    1 星号顺序参数必须在星号字典顺序的前面\n",
    "    2 顺序参数必须在keyword参数的前面\n",
    "    3 keyword参数必须在星号字典参数的前面\n",
    "    '''\n",
    "    print(kw)\n",
    "    print(var3)\n",
    "    print(var1, var2)\n",
    "fun5(1, 2, *[3, 4, 5], **{'var4': 5, 'var5': 6, 'var6': 6})"
   ]
  },
  {
   "cell_type": "markdown",
   "metadata": {},
   "source": [
    "**强烈建议全部使用keyword参数来定义和使用函数，这样能避免很多问题。**"
   ]
  },
  {
   "cell_type": "markdown",
   "metadata": {},
   "source": [
    "##### 函数的使用\n",
    "\n",
    "函数在python中也是一种类型，可以被当作参数传递，再拿偶数奇数，素数合数的例子，改写一下"
   ]
  },
  {
   "cell_type": "code",
   "execution_count": 29,
   "metadata": {
    "scrolled": true
   },
   "outputs": [
    {
     "name": "stdout",
     "output_type": "stream",
     "text": [
      " 0 is a even number\n",
      "1 is a prime number\n",
      " 1 is a odd number\n",
      " 2 is a even number\n",
      "3 is a prime number\n",
      " 3 is a odd number\n",
      " 4 is a even number\n",
      "5 is a prime number\n",
      " 5 is a odd number\n",
      " 6 is a even number\n",
      "7 is a prime number\n",
      " 7 is a odd number\n",
      " 8 is a even number\n",
      "9 is a composite number\n",
      " 9 is a odd number\n",
      "<function is_primary at 0x7fe2fc7a9b70> <class 'function'>\n"
     ]
    }
   ],
   "source": [
    "from math import sqrt\n",
    "\n",
    "\n",
    "def fun_odd(var):\n",
    "    print(' {} is a odd number'.format(var))\n",
    "\n",
    "\n",
    "def fun_even(var):\n",
    "    print(' {} is a even number'.format(var))\n",
    "\n",
    "\n",
    "def fun_primary(var):\n",
    "    print('{} is a prime number'.format(var))\n",
    "\n",
    "\n",
    "def fun_composite(var):\n",
    "    print('{} is a composite number'.format(var))\n",
    "\n",
    "\n",
    "def is_primary(var):\n",
    "    ret = False\n",
    "    for j in range(2, int(sqrt(var) + 1)):  # 只针对奇数判断素数，偶数肯定是合数\n",
    "        if var % j == 0:\n",
    "            break\n",
    "    else:  # 注意这里是for循环的else\n",
    "        ret = True\n",
    "    return ret\n",
    "\n",
    "\n",
    "def judge_numbers(number,\n",
    "                  odd_fun=fun_odd,\n",
    "                  even_fun=fun_even,\n",
    "                  primary_fun=fun_primary,\n",
    "                  composite_fun=fun_composite):\n",
    "    for i in range(number):\n",
    "        if i % 2 == 0:\n",
    "            even_fun(i)\n",
    "        elif i % 2 != 0:\n",
    "            if is_primary(i):\n",
    "                primary_fun(i)\n",
    "            else:\n",
    "                composite_fun(i)\n",
    "            odd_fun(i)\n",
    "        else:\n",
    "            print(' this not even possible for {}'.format(i))\n",
    "\n",
    "\n",
    "judge_numbers(10)\n",
    "print(is_primary, type(is_primary))"
   ]
  },
  {
   "cell_type": "markdown",
   "metadata": {},
   "source": [
    "关于函数的返回值，需要注意的是，任何python函数都是有返回值的，如果不写，则默认返回值为None，特别是有些内建函数，如果不注意会造成很隐蔽的bug。\n"
   ]
  },
  {
   "cell_type": "code",
   "execution_count": 30,
   "metadata": {
    "scrolled": true
   },
   "outputs": [
    {
     "name": "stdout",
     "output_type": "stream",
     "text": [
      " 10 is a even number\n",
      "None\n"
     ]
    }
   ],
   "source": [
    "a = fun_even(10)\n",
    "print(a)"
   ]
  },
  {
   "cell_type": "markdown",
   "metadata": {},
   "source": [
    "##### lambda函数\n",
    "有时，一些函数很简单，单独定义个函数有些没必要，但是一些接口又必须以函数作为参数，则可以使用lambda函数，或称匿名函数。\n",
    "\n",
    "lambda函数只能有一条语句，而且不能 包含赋值语句，语句的返回值，就是lambda函数的返回值"
   ]
  },
  {
   "cell_type": "code",
   "execution_count": 31,
   "metadata": {
    "scrolled": true
   },
   "outputs": [
    {
     "name": "stdout",
     "output_type": "stream",
     "text": [
      " 0 is a even number\n",
      "1 is a prime number\n",
      " 1 is a odd number\n",
      " 2 is a even number\n",
      "3 is a prime number\n",
      " 3 is a odd number\n",
      " 4 is a even number\n",
      "5 is a prime number\n",
      " 5 is a odd number\n",
      " 6 is a even number\n",
      "7 is a prime number\n",
      " 7 is a odd number\n",
      " 8 is a even number\n",
      "9 is a composite number\n",
      " 9 is a odd number\n",
      "15 is a composite number\n",
      "<function <lambda> at 0x7fe2fbd02a60> <class 'function'> None\n",
      "579\n"
     ]
    }
   ],
   "source": [
    "from math import sqrt\n",
    "\n",
    "# lambda函数也可以用一个变量来承接。\n",
    "fun_composite = lambda var: print('{} is a composite number'.format(var))\n",
    "\n",
    "\n",
    "def is_primary(var):\n",
    "    ret = False\n",
    "    for j in range(2, int(sqrt(var) + 1)):  # 只针对奇数判断素数，偶数肯定是合数\n",
    "        if var % j == 0:\n",
    "            break\n",
    "    else:  # 注意这里是for循环的else\n",
    "        ret = True\n",
    "    return ret\n",
    "\n",
    "\n",
    "def judge_numbers(\n",
    "        number,\n",
    "        odd_fun=lambda var: print(' {} is a odd number'.format(var)),\n",
    "        even_fun=lambda var: print(' {} is a even number'.format(var)),\n",
    "        primary_fun=lambda var: print('{} is a prime number'.format(var)),\n",
    "        composite_fun=fun_composite):\n",
    "    for i in range(number):\n",
    "        if i % 2 == 0:\n",
    "            even_fun(i)\n",
    "        elif i % 2 != 0:\n",
    "            if is_primary(i):\n",
    "                primary_fun(i)\n",
    "            else:\n",
    "                composite_fun(i)\n",
    "            odd_fun(i)\n",
    "        else:\n",
    "            print(' this not even possible for {}'.format(i))\n",
    "\n",
    "\n",
    "judge_numbers(10)\n",
    "print(fun_composite, type(fun_composite), fun_composite(15))\n",
    "\n",
    "# lambda 也可以有多个参数\n",
    "add = lambda x, y: x + y\n",
    "print(add(123, 456))"
   ]
  },
  {
   "cell_type": "markdown",
   "metadata": {},
   "source": [
    "##### 闭包\n",
    "内层函数对外层函数非全局变量的引用，就叫做闭包函数。闭包会一直存在内存当中,不会因为函数执行结束而被释放。\n",
    "设想如下情景，我们需要一个函数，这个函数可以记住自己被调用了多少次，该如何编写这个函数。\n",
    "当然，可以用全局变量来实现，也可以考虑用后面的class来实现，但是这两种方式都需要引入额外的东西。"
   ]
  },
  {
   "cell_type": "code",
   "execution_count": 32,
   "metadata": {},
   "outputs": [
    {
     "name": "stdout",
     "output_type": "stream",
     "text": [
      "got 1\n",
      "invoked 0 times\n",
      "got duck\n",
      "invoked 1 times\n",
      "got I am iron man!\n",
      "invoked 2 times\n"
     ]
    }
   ],
   "source": [
    "def fun_gen(): # 生成函数的函数\n",
    "    count = 0\n",
    "    def fun(var):\n",
    "        nonlocal count # 声明，引用外部函数的变量，不加这个会报错\n",
    "        print('got {}'.format(var))\n",
    "        print('invoked {} times'.format(count))\n",
    "        count += 1\n",
    "    return fun\n",
    "\n",
    "fun = fun_gen()\n",
    "\n",
    "fun(1)\n",
    "fun('duck')\n",
    "fun('I am iron man!')"
   ]
  },
  {
   "cell_type": "markdown",
   "metadata": {},
   "source": [
    "### 容器类型与相关操作，comprehension\n",
    "\n",
    "Python有几种内建的容器类型lists, dictionaries, sets, and tuples，其附带的各种内建操作，结合循环等，可以极大的简化某些场景下的数据操作。"
   ]
  },
  {
   "cell_type": "markdown",
   "metadata": {},
   "source": [
    "#### Lists，列表"
   ]
  },
  {
   "cell_type": "markdown",
   "metadata": {},
   "source": [
    "list是python版本的数组，与C/Java中的数组不同，list中的数组可以灵活的增删，而且可以存储不同类型的数据。"
   ]
  },
  {
   "cell_type": "code",
   "execution_count": 33,
   "metadata": {},
   "outputs": [
    {
     "name": "stdout",
     "output_type": "stream",
     "text": [
      "[3, 1, 2] 2\n",
      "2\n"
     ]
    },
    {
     "data": {
      "text/plain": [
       "3"
      ]
     },
     "execution_count": 33,
     "metadata": {},
     "output_type": "execute_result"
    }
   ],
   "source": [
    "xs = [3, 1, 2] \n",
    "print(xs, xs[2]) # 数组用下标访问，需要注意python中的下标从0开始\n",
    "print(xs[-1]) \n",
    "len(xs) # 内建函数len经常被用来计算容器的元素数量"
   ]
  },
  {
   "cell_type": "code",
   "execution_count": 34,
   "metadata": {
    "scrolled": true
   },
   "outputs": [
    {
     "name": "stdout",
     "output_type": "stream",
     "text": [
      "[[1, 2, 3, 4], 1, 'foo']\n"
     ]
    }
   ],
   "source": [
    "xs[2] = 'foo'   # list可以存储不同类型的元素，甚至是list\n",
    "xs[0] = [1,2,3,4]\n",
    "print(xs)"
   ]
  },
  {
   "cell_type": "code",
   "execution_count": 35,
   "metadata": {},
   "outputs": [
    {
     "name": "stdout",
     "output_type": "stream",
     "text": [
      "[[1, 2, 3, 4], 1, 'foo', 'bar']\n",
      "bar [[1, 2, 3, 4], 1, 'foo']\n"
     ]
    }
   ],
   "source": [
    "xs.append('bar')  # 像堆栈一样使用list\n",
    "print(xs)\n",
    "x = xs.pop()  # 被删除的元素会被返回\n",
    "print(x, xs)"
   ]
  },
  {
   "cell_type": "markdown",
   "metadata": {},
   "source": [
    "关于list的更多详细信息https://docs.python.org/3/tutorial/datastructures.html#more-on-lists"
   ]
  },
  {
   "cell_type": "markdown",
   "metadata": {},
   "source": [
    "#### Slicing/切片"
   ]
  },
  {
   "cell_type": "markdown",
   "metadata": {},
   "source": [
    "除了能够以下标访问某个单独的元素之外，python的容器还提供一种可以同时操作多个元素的方式，切片"
   ]
  },
  {
   "cell_type": "code",
   "execution_count": 36,
   "metadata": {
    "scrolled": false
   },
   "outputs": [
    {
     "name": "stdout",
     "output_type": "stream",
     "text": [
      "[0, 1, 2, 3, 4]\n",
      "[2, 3]\n",
      "[4, 3]\n",
      "[1, 3]\n",
      "[4, 2]\n",
      "[2, 3, 4]\n",
      "[0, 1]\n",
      "[0, 1, 2, 3, 4]\n",
      "[0, 1, 2, 3]\n",
      "[0, 1, 8, 9, 4]\n"
     ]
    }
   ],
   "source": [
    "nums = list(range(5))\n",
    "print(nums)     \n",
    "print(nums[2:4]) # 获得从第2到第3个元素，左边界可达，右边界不可达\n",
    "print(nums[4:2:-1]) # 逆序获取元素\n",
    "print(nums[1:5:2]) # 隔一个元素获取一个元素，这里的2是步长\n",
    "print(nums[5:1:-2])\n",
    "print(nums[2:])   # 索引可以省略，代表获取到最后\n",
    "print(nums[:2])\n",
    "print(nums[:])  # 两个索引都省略，代表获取所有元素，相当于复制，但是这里有个坑，待会儿介绍\n",
    "print(nums[:-1])    # 所以可以是负号，这个-1代表右边界，记得右边界不可达\n",
    "nums[2:4] = [8, 9]  # 批量赋值\n",
    "print(nums)  "
   ]
  },
  {
   "cell_type": "markdown",
   "metadata": {},
   "source": [
    "#####  一个小坑，deepcopy深层copy/shallowcopy浅层copy问题\n",
    "这个问题存在与所有的编程语言中，但是每个语言中的表现不同，在python中，除了基础的数字类型，tuple之外，其他所有的类型都有这个问题。\n",
    "\n",
    "\n",
    "这里考虑一个最简单的版本。"
   ]
  },
  {
   "cell_type": "code",
   "execution_count": 37,
   "metadata": {
    "scrolled": true
   },
   "outputs": [
    {
     "name": "stdout",
     "output_type": "stream",
     "text": [
      "[[1, 2, 3], 4, 5, 6] [[1, 2, 3], 4, 5, 6]\n",
      "[[1, 2, 3], 4, 'a', 6] [[1, 2, 3], 4, 'b', 6]\n",
      "[[1, 2, 'str2'], 4, 'a', 6] [[1, 2, 'str2'], 4, 'b', 6]\n",
      "True\n",
      "[[1, 2, 'str1'], 4, 'a', 6] [[1, 2, 'str2'], 4, 'a', 6]\n"
     ]
    }
   ],
   "source": [
    "l = [[1, 2, 3], 4, 5, 6]  # 嵌套的list\n",
    "\n",
    "l2 = l[:]  #制一个\n",
    "print(l, l2)\n",
    "\n",
    "l[2]= 'a'\n",
    "l2[2] = 'b'\n",
    "print(l, l2) # 这里一切正常\n",
    "\n",
    "l[0][2] = 'str1'\n",
    "l2[0][2] = 'str2'\n",
    "print(l, l2) # 这里出问题了，对l2的修改影响了l\n",
    "\n",
    "# 事实上，list中存储的是对[1,2,3]这个内部list的引用，\n",
    "# 复制的时候，只是复制了一个引用，并没有复制这个对象本身\n",
    "print(id(l[0]) == id(l2[0])) # id可以用来返回一个对象的地址，这里可以看到l和l2持有的是同一个对象。\n",
    "# 这里就是一个很典型的shallowcopy浅层copy\n",
    "\n",
    "# 当然，一些情况下，这个现象是需要的，但是也有一些情况需要避免这个现象\n",
    "\n",
    "# 解决方案很简单，针对内部对象，单独进行复制。\n",
    "l2 = l[:] \n",
    "l2[0] = l[0][:] # 这种操作就是deepcopy深层复制\n",
    "\n",
    "l[0][2] = 'str1'\n",
    "l2[0][2] = 'str2'\n",
    "print(l, l2) "
   ]
  },
  {
   "cell_type": "markdown",
   "metadata": {},
   "source": [
    "这里介绍的是很简单很浅显的情况，但是python代码上了一定的规模，特别是引入面向对象之后，很多时候，对象的构建过程比较复杂，浅层copy就不太容易被发现，需要小心处理。"
   ]
  },
  {
   "cell_type": "markdown",
   "metadata": {},
   "source": [
    "#### 循环"
   ]
  },
  {
   "cell_type": "markdown",
   "metadata": {},
   "source": [
    "python内建了强大的对容器类型的遍历支持，使用起来很方便。"
   ]
  },
  {
   "cell_type": "code",
   "execution_count": 38,
   "metadata": {},
   "outputs": [
    {
     "name": "stdout",
     "output_type": "stream",
     "text": [
      "cat\n",
      "dog\n",
      "monkey\n"
     ]
    }
   ],
   "source": [
    "animals = ['cat', 'dog', 'monkey']\n",
    "for animal in animals:\n",
    "    print(animal)"
   ]
  },
  {
   "cell_type": "markdown",
   "metadata": {},
   "source": [
    "有时候，只访问元素值是不够的，还需要知道 元素的索引可以使用`enumerate` 函数"
   ]
  },
  {
   "cell_type": "code",
   "execution_count": 39,
   "metadata": {},
   "outputs": [
    {
     "name": "stdout",
     "output_type": "stream",
     "text": [
      "#1: cat\n",
      "#2: dog\n",
      "#3: monkey\n"
     ]
    }
   ],
   "source": [
    "animals = ['cat', 'dog', 'monkey']\n",
    "for idx, animal in enumerate(animals):\n",
    "    print('#%d: %s' % (idx + 1, animal))"
   ]
  },
  {
   "cell_type": "markdown",
   "metadata": {},
   "source": [
    "#### List comprehensions/列表推导式"
   ]
  },
  {
   "cell_type": "markdown",
   "metadata": {},
   "source": [
    "comprehensions是python内建的对容器元素进行操作的一种便捷方式，其非常简洁，当然很多时候不是必须的。\n",
    "\n",
    "考虑需要把一个list中的整数都取平方这个应用场景，如果用for循环来做的话"
   ]
  },
  {
   "cell_type": "code",
   "execution_count": 40,
   "metadata": {},
   "outputs": [
    {
     "name": "stdout",
     "output_type": "stream",
     "text": [
      "[0, 1, 4, 9, 16]\n"
     ]
    }
   ],
   "source": [
    "nums = [0, 1, 2, 3, 4]\n",
    "squares = []\n",
    "for x in nums:\n",
    "    squares.append(x ** 2)\n",
    "print(squares)"
   ]
  },
  {
   "cell_type": "markdown",
   "metadata": {},
   "source": [
    "而用comprehensions则可以表示成这样，代码简洁了很多"
   ]
  },
  {
   "cell_type": "code",
   "execution_count": 41,
   "metadata": {},
   "outputs": [
    {
     "name": "stdout",
     "output_type": "stream",
     "text": [
      "[0, 1, 4, 9, 16]\n"
     ]
    }
   ],
   "source": [
    "nums = [0, 1, 2, 3, 4]\n",
    "squares = [x ** 2 for x in nums]\n",
    "print(squares)"
   ]
  },
  {
   "cell_type": "markdown",
   "metadata": {},
   "source": [
    "comprehensions 也可以包含判断条件"
   ]
  },
  {
   "cell_type": "code",
   "execution_count": 42,
   "metadata": {},
   "outputs": [
    {
     "name": "stdout",
     "output_type": "stream",
     "text": [
      "[0, 4, 16]\n"
     ]
    }
   ],
   "source": [
    "nums = [0, 1, 2, 3, 4]\n",
    "even_squares = [x ** 2 for x in nums if x % 2 == 0]\n",
    "print(even_squares)"
   ]
  },
  {
   "cell_type": "markdown",
   "metadata": {},
   "source": [
    "#### Dictionaries字典"
   ]
  },
  {
   "cell_type": "markdown",
   "metadata": {},
   "source": [
    "字典是键值对 (key, value)的一种数据结构，类似java中map，但是这里的字典可以存储任意类型的元素作为value，不过字典对key有一定的要求，这个稍后介绍。"
   ]
  },
  {
   "cell_type": "code",
   "execution_count": 43,
   "metadata": {},
   "outputs": [
    {
     "name": "stdout",
     "output_type": "stream",
     "text": [
      "cute\n",
      "True\n"
     ]
    }
   ],
   "source": [
    "d = {'cat': 'cute', 'dog': 'furry'} \n",
    "print(d['cat']) # 字典也可以用下标获取\n",
    "print('cat' in d)  #检查某个元素是否在字典里"
   ]
  },
  {
   "cell_type": "code",
   "execution_count": 44,
   "metadata": {},
   "outputs": [
    {
     "name": "stdout",
     "output_type": "stream",
     "text": [
      "wet\n"
     ]
    }
   ],
   "source": [
    "d['fish'] = 'wet'    # 设置某个元素的值\n",
    "print(d['fish']) "
   ]
  },
  {
   "cell_type": "code",
   "execution_count": 45,
   "metadata": {},
   "outputs": [
    {
     "ename": "KeyError",
     "evalue": "'monkey'",
     "output_type": "error",
     "traceback": [
      "\u001b[0;31m---------------------------------------------------------------------------\u001b[0m",
      "\u001b[0;31mKeyError\u001b[0m                                  Traceback (most recent call last)",
      "\u001b[0;32m<ipython-input-45-fb043071493a>\u001b[0m in \u001b[0;36m<module>\u001b[0;34m\u001b[0m\n\u001b[0;32m----> 1\u001b[0;31m \u001b[0mprint\u001b[0m\u001b[0;34m(\u001b[0m\u001b[0md\u001b[0m\u001b[0;34m[\u001b[0m\u001b[0;34m'monkey'\u001b[0m\u001b[0;34m]\u001b[0m\u001b[0;34m)\u001b[0m  \u001b[0;31m# 找没有的元素\u001b[0m\u001b[0;34m\u001b[0m\u001b[0;34m\u001b[0m\u001b[0m\n\u001b[0m",
      "\u001b[0;31mKeyError\u001b[0m: 'monkey'"
     ]
    }
   ],
   "source": [
    "print(d['monkey'])  # 找没有的元素"
   ]
  },
  {
   "cell_type": "code",
   "execution_count": 46,
   "metadata": {},
   "outputs": [
    {
     "name": "stdout",
     "output_type": "stream",
     "text": [
      "N/A\n",
      "wet\n"
     ]
    }
   ],
   "source": [
    "print(d.get('monkey', 'N/A'))  # 可以给一个默认值，避免KeyError\n",
    "print(d.get('fish', 'N/A'))"
   ]
  },
  {
   "cell_type": "code",
   "execution_count": 47,
   "metadata": {},
   "outputs": [
    {
     "name": "stdout",
     "output_type": "stream",
     "text": [
      "N/A\n"
     ]
    }
   ],
   "source": [
    "del d['fish']        # 删除一个值\n",
    "# 这个真的很少用，我自己完全没用过这个，比起删除\n",
    "#我更喜欢直接用comprehension加判断条件直接创建一个新的。\n",
    "print(d.get('fish', 'N/A'))  # \"fish\" is no longer a key; prints \"N/A\""
   ]
  },
  {
   "cell_type": "markdown",
   "metadata": {},
   "source": [
    "更多关于dict的资料可以查看python的官方文档https://docs.python.org/3/library/stdtypes.html#dict"
   ]
  },
  {
   "cell_type": "markdown",
   "metadata": {},
   "source": [
    "dict也支持内建的forin遍历语法"
   ]
  },
  {
   "cell_type": "code",
   "execution_count": 48,
   "metadata": {},
   "outputs": [
    {
     "name": "stdout",
     "output_type": "stream",
     "text": [
      "A person has 2 legs\n",
      "A cat has 4 legs\n",
      "A spider has 8 legs\n"
     ]
    }
   ],
   "source": [
    "d = {'person': 2, 'cat': 4, 'spider': 8}\n",
    "for animal in d:\n",
    "    legs = d[animal]\n",
    "    print('A %s has %d legs' % (animal, legs))"
   ]
  },
  {
   "cell_type": "markdown",
   "metadata": {},
   "source": [
    "也可以直接访问键值对"
   ]
  },
  {
   "cell_type": "code",
   "execution_count": 49,
   "metadata": {},
   "outputs": [
    {
     "name": "stdout",
     "output_type": "stream",
     "text": [
      "A person has 2 legs\n",
      "A cat has 4 legs\n",
      "A spider has 8 legs\n"
     ]
    }
   ],
   "source": [
    "d = {'person': 2, 'cat': 4, 'spider': 8}\n",
    "for animal, legs in d.items():\n",
    "    print('A %s has %d legs' % (animal, legs))"
   ]
  },
  {
   "cell_type": "markdown",
   "metadata": {},
   "source": [
    "Dictionary comprehensions: 跟list的类似"
   ]
  },
  {
   "cell_type": "code",
   "execution_count": 50,
   "metadata": {},
   "outputs": [
    {
     "name": "stdout",
     "output_type": "stream",
     "text": [
      "{0: 0, 2: 4, 4: 16}\n"
     ]
    }
   ],
   "source": [
    "nums = [0, 1, 2, 3, 4]\n",
    "even_num_to_square = {x: x ** 2 for x in nums if x % 2 == 0}\n",
    "print(even_num_to_square)"
   ]
  },
  {
   "cell_type": "markdown",
   "metadata": {},
   "source": [
    "如果有有其他语言特别是javascript的背景的人，可能已经注意到，python里面的dict跟json格式如出一辙，事实上python里面的dict，可以非常方便的用json这个库跟json字符串互相转化。"
   ]
  },
  {
   "cell_type": "code",
   "execution_count": 51,
   "metadata": {},
   "outputs": [
    {
     "name": "stdout",
     "output_type": "stream",
     "text": [
      "<class 'str'>\n",
      "{'person': 2, 'cat': 4, 'spider': 8}\n",
      "<class 'dict'>\n"
     ]
    }
   ],
   "source": [
    "d = {'person': 2, 'cat': 4, 'spider': 8}\n",
    "import json\n",
    "var_json = json.dumps(d)\n",
    "print(type(var_json))\n",
    "d2 = json.loads(var_json)\n",
    "print(d2)\n",
    "print(type(d2))"
   ]
  },
  {
   "cell_type": "markdown",
   "metadata": {},
   "source": [
    "#### Sets/集合"
   ]
  },
  {
   "cell_type": "markdown",
   "metadata": {},
   "source": [
    "集合是唯一元素的list，跟list相似但又有独特的应用领域"
   ]
  },
  {
   "cell_type": "code",
   "execution_count": 52,
   "metadata": {},
   "outputs": [
    {
     "name": "stdout",
     "output_type": "stream",
     "text": [
      "True\n",
      "False\n"
     ]
    }
   ],
   "source": [
    "animals = {'cat', 'dog'}\n",
    "print('cat' in animals)\n",
    "print('fish' in animals)"
   ]
  },
  {
   "cell_type": "code",
   "execution_count": 53,
   "metadata": {},
   "outputs": [
    {
     "name": "stdout",
     "output_type": "stream",
     "text": [
      "True\n",
      "{'fish', 'dog', 'cat'}\n",
      "3\n"
     ]
    }
   ],
   "source": [
    "animals.add('fish') \n",
    "print('fish' in animals)\n",
    "print(animals)\n",
    "print(len(animals))   "
   ]
  },
  {
   "cell_type": "code",
   "execution_count": 54,
   "metadata": {},
   "outputs": [
    {
     "name": "stdout",
     "output_type": "stream",
     "text": [
      "3\n",
      "{'fish', 'dog', 'cat'}\n",
      "2\n"
     ]
    }
   ],
   "source": [
    "animals.add('cat') # 添加重复的元素不起作用\n",
    "print(len(animals))\n",
    "print(animals)\n",
    "animals.remove('cat') \n",
    "print(len(animals))"
   ]
  },
  {
   "cell_type": "markdown",
   "metadata": {},
   "source": [
    "元素值唯一的特性，让set有独特的应用领域，但是set的使用真的不如list和dict广泛，甚至也比不上tuple。\n",
    "\n",
    "set相关的详细信息可以查阅https://docs.python.org/3/library/stdtypes.html#set\n",
    "\n",
    "_Loops_: set使用内建的hash算法来处理元素的内容比对，而不是按照元素放入的顺序，这个跟list不太一样，set是无序（unordered）的。\n",
    "> 无序仅仅是相对于放入顺序来说，其实set可以保证只要内容不变，每次输出的顺序是完全一样的。"
   ]
  },
  {
   "cell_type": "code",
   "execution_count": 55,
   "metadata": {},
   "outputs": [
    {
     "name": "stdout",
     "output_type": "stream",
     "text": [
      "fish\n",
      "dog\n",
      "cat\n",
      "#1: fish\n",
      "#2: dog\n",
      "#3: cat\n"
     ]
    }
   ],
   "source": [
    "animals = {'cat', 'dog', 'fish'}\n",
    "for animal in animals:\n",
    "    print(animal)\n",
    "\n",
    "animals = {'cat', 'dog', 'fish'}\n",
    "for idx, animal in enumerate(animals):\n",
    "    print(('#%d: %s' % (idx + 1, animal)))\n"
   ]
  },
  {
   "cell_type": "markdown",
   "metadata": {},
   "source": [
    "##### Set comprehensions: \n",
    "没啥好说得了，自己感受下"
   ]
  },
  {
   "cell_type": "code",
   "execution_count": 56,
   "metadata": {},
   "outputs": [
    {
     "name": "stdout",
     "output_type": "stream",
     "text": [
      "{0, 1, 2, 3, 4, 5}\n"
     ]
    }
   ],
   "source": [
    "from math import sqrt\n",
    "print({int(sqrt(x)) for x in range(30)})"
   ]
  },
  {
   "cell_type": "markdown",
   "metadata": {},
   "source": [
    "#### Tuples/元组"
   ]
  },
  {
   "cell_type": "markdown",
   "metadata": {},
   "source": [
    "元组是不可变 (immutable)版本的list，其使用跟list基本一致，不同的是list的元素可变，而tuple的元素不可变，同时tuple可以作为dict的key，而list不行。"
   ]
  },
  {
   "cell_type": "code",
   "execution_count": 57,
   "metadata": {},
   "outputs": [
    {
     "name": "stdout",
     "output_type": "stream",
     "text": [
      "<class 'tuple'>\n",
      "5\n",
      "1\n"
     ]
    }
   ],
   "source": [
    "d = {(x, x + 1): x for x in range(10)}  # Create a dictionary with tuple keys\n",
    "# list and dict and sets are not hashable.\n",
    "t = (5, 6)       # Create a tuple\n",
    "print(type(t))\n",
    "print(d[t])\n",
    "print(d[(1, 2)])"
   ]
  },
  {
   "cell_type": "code",
   "execution_count": 58,
   "metadata": {
    "scrolled": true
   },
   "outputs": [
    {
     "ename": "TypeError",
     "evalue": "'tuple' object does not support item assignment",
     "output_type": "error",
     "traceback": [
      "\u001b[0;31m---------------------------------------------------------------------------\u001b[0m",
      "\u001b[0;31mTypeError\u001b[0m                                 Traceback (most recent call last)",
      "\u001b[0;32m<ipython-input-58-c8aeb8cd20ae>\u001b[0m in \u001b[0;36m<module>\u001b[0;34m\u001b[0m\n\u001b[0;32m----> 1\u001b[0;31m \u001b[0mt\u001b[0m\u001b[0;34m[\u001b[0m\u001b[0;36m0\u001b[0m\u001b[0;34m]\u001b[0m \u001b[0;34m=\u001b[0m \u001b[0;36m1\u001b[0m\u001b[0;34m\u001b[0m\u001b[0;34m\u001b[0m\u001b[0m\n\u001b[0m",
      "\u001b[0;31mTypeError\u001b[0m: 'tuple' object does not support item assignment"
     ]
    }
   ],
   "source": [
    "t[0] = 1"
   ]
  },
  {
   "cell_type": "markdown",
   "metadata": {},
   "source": [
    "更多详细信息可以参考https://docs.python.org/3/tutorial/datastructures.html#tuples-and-sequences"
   ]
  },
  {
   "cell_type": "markdown",
   "metadata": {},
   "source": [
    "##### 关于dict的kety\n",
    "到这里我们终于可以回来介绍一下dict的key了，\n",
    "官方对dict的介绍为\n",
    ">A mapping object maps hashable values to arbitrary objects.\n",
    "\n",
    "而关于hashable，python文档的介绍如下：\n",
    ">An object is hashable if it has a hash value which never changes during its lifetime (it needs a \\_\\_hash\\_\\_() method), and can be compared to other objects (it needs an \\_\\_eq\\_\\_() method). Hashable objects which compare equal must have the same hash value.\n",
    "\n",
    "换句话说，作为dict的key使用的值必须是稳定的，能被可靠的索引，而list内容是可变（mutable）的，所以不能作为dict的key。\n",
    "\n",
    "在python中，所有immutable的对象，包括所有数值类型，字符串，tuple都是immutable的，所以可以被当作dict的key。\n",
    "\n",
    ">对字符串的替换，拼接等操作，都会返回一个新的字符串，而不是在原有字符串上进行操作（inplace方式）\n",
    "\n",
    "而用户定义的类型，如果其实现了\\_\\_hash\\_\\_方法，可以提供一个稳定的hash value用以区别两个不同的object，那么这个用户类型也可以作为dict的key，即使这个用户类型内部的元素会改变，本身是mutable的。"
   ]
  },
  {
   "cell_type": "markdown",
   "metadata": {},
   "source": [
    "## python 高级\n",
    "### Classes"
   ]
  },
  {
   "cell_type": "markdown",
   "metadata": {},
   "source": [
    "Python提供面向对象的支持，在python中定义一个类很简单\n",
    ">面向对象的内容比较庞大，这里仅介绍部分关键内容"
   ]
  },
  {
   "cell_type": "code",
   "execution_count": 59,
   "metadata": {
    "scrolled": true
   },
   "outputs": [
    {
     "name": "stdout",
     "output_type": "stream",
     "text": [
      "Hello, Fred\n",
      "HELLO, FRED!\n",
      "HELLO, GREETER!\n",
      "HELLO, GREETER!\n",
      "Greeter\n",
      "Greeter\n",
      "greeter\n",
      "Greeter\n"
     ]
    }
   ],
   "source": [
    "class Greeter:\n",
    "    member = 'Greeter' # 类属性\n",
    "    # 构造器\n",
    "    def __init__(self, name):\n",
    "        self.name = name  #实例属性\n",
    "\n",
    "    # 实例方法\n",
    "    def greet(self, loud=False):\n",
    "        '''\n",
    "        这里的self是调用这个方法的本类的实例\n",
    "        '''\n",
    "        if loud:\n",
    "            print('HELLO, %s!' % self.name.upper())\n",
    "        else:\n",
    "            print('Hello, %s' % self.name)\n",
    "    \n",
    "    # 类方法，需要通过classmethod进行定义\n",
    "    @classmethod # 这是一个装饰器/decorator的用法，python中比较高级的一块内容\n",
    "    def Greet(cls, loud=True):\n",
    "        '''\n",
    "        这里的cls是调用这个方法的本类的实例\n",
    "        '''\n",
    "        if loud:\n",
    "            print('HELLO, %s!' % cls.member.upper())\n",
    "        else:\n",
    "            print('Hello, %s' % cls.member.name)\n",
    "\n",
    "\n",
    "g = Greeter('Fred')\n",
    "g.greet()\n",
    "g.greet(loud=True)\n",
    "\n",
    "Greeter.Greet()  # 类的方法可以通过类来调用，也可以通过实例调用\n",
    "g.Greet()\n",
    "\n",
    "print(g.member)  #类属性可以通过实例或者类本身读取\n",
    "print(Greeter.member)\n",
    "\n",
    "g.member = 'greeter'\n",
    "# 但是直接在实例上赋值会创建一个新的实例属性，而不是修改类属性的值\n",
    "# 所以如果用实例调用类方法，而里面又涉及了对类属性的修改，就会出问题\n",
    "print(g.member)\n",
    "print(Greeter.member)"
   ]
  },
  {
   "cell_type": "markdown",
   "metadata": {},
   "source": [
    "需要注意的是，这里的self 不是一个很特别的变量，只是约定俗成的写法，self也不是python的保留关键字，你可以用任何变量名替代self。"
   ]
  },
  {
   "cell_type": "code",
   "execution_count": 60,
   "metadata": {
    "scrolled": false
   },
   "outputs": [
    {
     "name": "stdout",
     "output_type": "stream",
     "text": [
      "Hello, Fred\n",
      "HELLO, FRED!\n"
     ]
    }
   ],
   "source": [
    "class Greeter2:\n",
    "    # Constructor\n",
    "    def __init__(this, name):\n",
    "        this.name = name \n",
    "\n",
    "    def greet(this, loud=False):\n",
    "        if loud:\n",
    "            print('HELLO, %s!' % this.name.upper())\n",
    "        else:\n",
    "            print('Hello, %s' % this.name)\n",
    "            \n",
    "g = Greeter2('Fred')\n",
    "g.greet()\n",
    "g.greet(loud=True)"
   ]
  },
  {
   "cell_type": "markdown",
   "metadata": {},
   "source": [
    "在python中，甚至类本身的定义都是可以随时被修改的。"
   ]
  },
  {
   "cell_type": "code",
   "execution_count": 61,
   "metadata": {
    "scrolled": false
   },
   "outputs": [
    {
     "name": "stdout",
     "output_type": "stream",
     "text": [
      "Hello, Greeter3\n",
      "HELLO, GREETER3!\n"
     ]
    }
   ],
   "source": [
    "class Greeter3:\n",
    "    # Constructor\n",
    "    def __init__(this, name):\n",
    "        this.name = name\n",
    "\n",
    "# 独立于类定义的一个函数定义\n",
    "def greet(this, loud=False):\n",
    "    if loud:\n",
    "        print('HELLO, %s!' % this.name.upper())\n",
    "    else:\n",
    "        print('Hello, %s' % this.name)\n",
    "\n",
    "Greeter3.greet = greet # 函数的定义可以在运行的时候被替换\n",
    "g = Greeter3('Greeter3') \n",
    "g.greet()  \n",
    "g.greet(loud=True)"
   ]
  },
  {
   "cell_type": "markdown",
   "metadata": {},
   "source": [
    "#### class的继承与重载\n",
    "既然涉及面向对象，那么就一定有类的继承与重载。"
   ]
  },
  {
   "cell_type": "code",
   "execution_count": 62,
   "metadata": {
    "scrolled": false
   },
   "outputs": [
    {
     "name": "stdout",
     "output_type": "stream",
     "text": [
      "init Base\n",
      "init B\n",
      "init A\n",
      "init DerivedA\n",
      "##########\n",
      "fun from Base [DerivedA]\n",
      "from B [DerivedA]\n",
      "fun from A [DerivedA]\n",
      "fun from DerivedA[DerivedA]\n",
      "##########\n",
      "fun_2 from A [DerivedA]\n",
      "fun_2 from DerivedA [DerivedA]\n",
      "##########\n",
      "funA from A [DerivedA]\n",
      "##########\n",
      "funB from B [DerivedA]\n",
      "##########\n",
      "funBase from Base [DerivedA]\n"
     ]
    }
   ],
   "source": [
    "class Base:\n",
    "    def __init__(self, name='Base'):\n",
    "        print('init Base')\n",
    "        self.name = name\n",
    "\n",
    "    def fun(self):\n",
    "        print('fun from Base [{}]'.format(self.name))\n",
    "\n",
    "    def fun_2(self):\n",
    "        print('fun_2 from Base [{}]'.format(self.name))\n",
    "\n",
    "    def funBase(self):\n",
    "        print('funBase from Base [{}]'.format(self.name))\n",
    "\n",
    "\n",
    "class A(Base):\n",
    "    def __init__(self, name='A'):\n",
    "        super().__init__(name=name)\n",
    "        # 如果这里的super init不加name会怎么样呢？\n",
    "        print('init A')\n",
    "\n",
    "    def fun(self):\n",
    "        super().fun()\n",
    "        print('fun from A [{}]'.format(self.name))\n",
    "\n",
    "    def fun_2(self):\n",
    "        print('fun_2 from A [{}]'.format(self.name))\n",
    "\n",
    "    def funA(self):\n",
    "        print('funA from A [{}]'.format(self.name))\n",
    "\n",
    "\n",
    "class B(Base):\n",
    "    def __init__(self, name='B'):\n",
    "        super().__init__(name=name)\n",
    "        print('init B')\n",
    "\n",
    "    def fun(self):\n",
    "        super().fun()\n",
    "        print('from B [{}]'.format(self.name))\n",
    "\n",
    "    def fun_2(self):\n",
    "        super().fun_2()\n",
    "        print('fun_2 from B [{}]'.format(self.name))\n",
    "\n",
    "    def funB(self):\n",
    "        print('funB from B [{}]'.format(self.name))\n",
    "\n",
    "\n",
    "class DerivedA(A, B):\n",
    "    def __init__(self, name='DerivedA'):\n",
    "        #super(DerivedA, self).__init__(name=name)\n",
    "        super().__init__(name=name)  # 也可以省略，作用一样\n",
    "        print('init DerivedA')\n",
    "\n",
    "    def fun(self):\n",
    "        super().fun()\n",
    "        print('fun from DerivedA[{}]'.format(self.name))\n",
    "\n",
    "    def fun_2(self):\n",
    "        super().fun_2()\n",
    "        print('fun_2 from DerivedA [{}]'.format(self.name))\n",
    "        \n",
    "        \n",
    "da = DerivedA()\n",
    "# 这里，对子类的实例化，会沿着继承链从下到上， 从左到右（子类继承括号的顺序）的顺序查找基类，\n",
    "# 然后按照相反的方式进行实例化\n",
    "print('#' * 10)\n",
    "\n",
    "\n",
    "# 可以使用super来调用父类的被重载的函数\n",
    "# 一定注意继承链的查找顺序\n",
    "da.fun()\n",
    "print('#' * 10)\n",
    "\n",
    "# 中间基类每一层都要调用super函数，\n",
    "# 不然继承链会在没有调用super的那一层断掉\n",
    "# 对init是如此，对普通函数也是如此\n",
    "da.fun_2()\n",
    "print('#' * 10)\n",
    "\n",
    "da.funA()\n",
    "print('#' * 10)\n",
    "\n",
    "da.funB()\n",
    "print('#' * 10)\n",
    "\n",
    "da.funBase()"
   ]
  },
  {
   "cell_type": "markdown",
   "metadata": {},
   "source": [
    "除了super方式之外，其实还有下述方式，但是下述方式有个明显的问题"
   ]
  },
  {
   "cell_type": "code",
   "execution_count": 63,
   "metadata": {
    "scrolled": true
   },
   "outputs": [
    {
     "name": "stdout",
     "output_type": "stream",
     "text": [
      "init Base\n",
      "init A\n",
      "init Base\n",
      "init B\n",
      "init DerivedA\n"
     ]
    }
   ],
   "source": [
    "class Base:\n",
    "    def __init__(self):\n",
    "        print('init Base')\n",
    "\n",
    "\n",
    "class A(Base):\n",
    "    def __init__(self):\n",
    "        Base.__init__(self)\n",
    "        print('init A')\n",
    "\n",
    "\n",
    "class B(Base):\n",
    "    def __init__(self):\n",
    "        Base.__init__(self)\n",
    "        print('init B')\n",
    "\n",
    "\n",
    "class DerivedA(A, B):\n",
    "    def __init__(self):\n",
    "        A.__init__(self)\n",
    "        B.__init__(self)\n",
    "        print('init DerivedA')\n",
    "\n",
    "\n",
    "da = DerivedA()"
   ]
  },
  {
   "cell_type": "markdown",
   "metadata": {},
   "source": [
    "上面的Base，被调用了两次，所以除非确实需要，不要这么做。使用super能满足大多数场景下的需求。"
   ]
  },
  {
   "cell_type": "markdown",
   "metadata": {},
   "source": [
    "#### Magic function/魔术方法\n",
    "到这里，带双下划线的方法已经出现过很多次了，这里正式介绍一下。\n",
    "\n",
    "Python中，所有以“__”双下划线包起来的方法，都统称为“Magic Method”，中文称魔术方法。\n",
    "\n",
    "同时还存在“__”双下划线开头的成员，又是另外的用途，待会儿单独介绍。"
   ]
  },
  {
   "cell_type": "markdown",
   "metadata": {},
   "source": [
    "Magic Function存在于类中，一般作为实例方法，其与特定的python内建函数或特定操作对应，一般都有特定的用途。\n",
    "\n",
    "换句话说，python中有一批Magic Function，其名字和用途是已经确定了的，我们只需要根据自己的需要，实现这些MagicFunction即可，python的一些语法和内建函数会自动依赖这些MagicFunction来运行。\n",
    "\n",
    "已经介绍过的\\_\\_init\\_\\_就是比较常见的一个，与之对应的是\\_\\_del\\_\\_这两个函数分别用于实例的初始化和删除，也就是其他面向对象语言中的构造器和析构器。\n",
    ">python中有比较完善的垃圾回收机制，所以很多时候不需要使用析构器。虽然很多文献指出这个垃圾回收机制的效率不高（甚至有人指出，禁用垃圾回收能提高python的运行效率）。\n",
    "\n",
    "前面已经用过的len函数，依赖于 \\_\\_len\\_\\_，而dict的key必须实现\\_\\_hash\\_\\_等。\n",
    "\n",
    "关于Magic Function，可以使用dir这个内建函数去查询需要模仿实现的类型，里面都有什么方法。例如："
   ]
  },
  {
   "cell_type": "code",
   "execution_count": 64,
   "metadata": {
    "scrolled": false
   },
   "outputs": [
    {
     "name": "stdout",
     "output_type": "stream",
     "text": [
      "['__add__', '__class__', '__contains__', '__delattr__', '__delitem__', '__dir__', '__doc__', '__eq__', '__format__', '__ge__', '__getattribute__', '__getitem__', '__gt__', '__hash__', '__iadd__', '__imul__', '__init__', '__init_subclass__', '__iter__', '__le__', '__len__', '__lt__', '__mul__', '__ne__', '__new__', '__reduce__', '__reduce_ex__', '__repr__', '__reversed__', '__rmul__', '__setattr__', '__setitem__', '__sizeof__', '__str__', '__subclasshook__', 'append', 'clear', 'copy', 'count', 'extend', 'index', 'insert', 'pop', 'remove', 'reverse', 'sort']\n"
     ]
    }
   ],
   "source": [
    "print(dir(list))"
   ]
  },
  {
   "cell_type": "markdown",
   "metadata": {},
   "source": [
    "这里做个有意思的小程序,对于这个自定的class,运行len会返回当前系统的unix timestamp"
   ]
  },
  {
   "cell_type": "code",
   "execution_count": 65,
   "metadata": {},
   "outputs": [
    {
     "name": "stdout",
     "output_type": "stream",
     "text": [
      "1558524155\n"
     ]
    }
   ],
   "source": [
    "import datetime\n",
    "\n",
    "\n",
    "class my_len:\n",
    "    def __len__(self):\n",
    "        return int(datetime.datetime.now().timestamp())\n",
    "\n",
    "\n",
    "# python里面的unixtimestamp包含毫秒,但是len只能处理整数\n",
    "\n",
    "print(len(my_len()))"
   ]
  },
  {
   "cell_type": "markdown",
   "metadata": {},
   "source": [
    "当然这里的实现其实很不好,因为这种方式很奇怪,返回的数据让人很困惑."
   ]
  },
  {
   "cell_type": "markdown",
   "metadata": {},
   "source": [
    "#### 权限控制\n",
    "提到面向对象，那么一定有对被访问对象的访问权限控制相关的功能，如public，protected，private等。\n",
    "\n",
    "而这里是python比较特别的地方，python没有提供相关的机制，python的作者认为类的设计和使用者应该进行充分的沟通，而不是依赖这种语法设计来保证访问权限。\n",
    "\n",
    "但是Python里面还是提供了一个替代方案来实现私有成员。在python中，以“__”双下划线开头的成员是私有成员，外部调用者不能**直接**访问，注意这里提了一个**直接**，事实上，想访问还是有办法的。"
   ]
  },
  {
   "cell_type": "code",
   "execution_count": 66,
   "metadata": {},
   "outputs": [
    {
     "ename": "AttributeError",
     "evalue": "'A' object has no attribute '_var1'",
     "output_type": "error",
     "traceback": [
      "\u001b[0;31m---------------------------------------------------------------------------\u001b[0m",
      "\u001b[0;31mAttributeError\u001b[0m                            Traceback (most recent call last)",
      "\u001b[0;32m<ipython-input-66-e446b5af785e>\u001b[0m in \u001b[0;36m<module>\u001b[0;34m\u001b[0m\n\u001b[1;32m      5\u001b[0m \u001b[0ma\u001b[0m \u001b[0;34m=\u001b[0m \u001b[0mA\u001b[0m\u001b[0;34m(\u001b[0m\u001b[0;34m)\u001b[0m\u001b[0;34m\u001b[0m\u001b[0;34m\u001b[0m\u001b[0m\n\u001b[1;32m      6\u001b[0m \u001b[0;34m\u001b[0m\u001b[0m\n\u001b[0;32m----> 7\u001b[0;31m \u001b[0mprint\u001b[0m\u001b[0;34m(\u001b[0m\u001b[0ma\u001b[0m\u001b[0;34m.\u001b[0m\u001b[0m_var1\u001b[0m\u001b[0;34m)\u001b[0m\u001b[0;34m\u001b[0m\u001b[0;34m\u001b[0m\u001b[0m\n\u001b[0m",
      "\u001b[0;31mAttributeError\u001b[0m: 'A' object has no attribute '_var1'"
     ]
    }
   ],
   "source": [
    "class A:\n",
    "    def __init__(self):\n",
    "        self.__var1 = 1\n",
    "        self.__var2 = 2\n",
    "a = A()\n",
    "\n",
    "print(a._var1)"
   ]
  },
  {
   "cell_type": "code",
   "execution_count": 67,
   "metadata": {},
   "outputs": [
    {
     "name": "stdout",
     "output_type": "stream",
     "text": [
      "1\n"
     ]
    }
   ],
   "source": [
    "print(a._A__var1)"
   ]
  },
  {
   "cell_type": "markdown",
   "metadata": {},
   "source": [
    "### Generator生成器\n",
    "\n",
    "python的for语法和容器配合的方式，非常的直观好用，而在这背后支撑一切的，则是generator的使用。\n",
    "\n",
    "大部分python开发人员差不多每天都在用generator，但是自己却没有意识到。\n",
    "\n",
    "在介绍generator之前，先来看一下如果不使用for循环的情况下访问list会怎样。"
   ]
  },
  {
   "cell_type": "code",
   "execution_count": 68,
   "metadata": {
    "scrolled": true
   },
   "outputs": [
    {
     "name": "stdout",
     "output_type": "stream",
     "text": [
      "<list_iterator object at 0x7fe2fbd109e8>\n",
      "1\n",
      "2\n",
      "3\n",
      "4\n"
     ]
    },
    {
     "ename": "StopIteration",
     "evalue": "",
     "output_type": "error",
     "traceback": [
      "\u001b[0;31m---------------------------------------------------------------------------\u001b[0m",
      "\u001b[0;31mStopIteration\u001b[0m                             Traceback (most recent call last)",
      "\u001b[0;32m<ipython-input-68-f1ffccbe7163>\u001b[0m in \u001b[0;36m<module>\u001b[0;34m\u001b[0m\n\u001b[1;32m     11\u001b[0m \u001b[0mprint\u001b[0m\u001b[0;34m(\u001b[0m\u001b[0mnext\u001b[0m\u001b[0;34m(\u001b[0m\u001b[0mit\u001b[0m\u001b[0;34m)\u001b[0m\u001b[0;34m)\u001b[0m\u001b[0;34m\u001b[0m\u001b[0;34m\u001b[0m\u001b[0m\n\u001b[1;32m     12\u001b[0m \u001b[0;34m\u001b[0m\u001b[0m\n\u001b[0;32m---> 13\u001b[0;31m \u001b[0mprint\u001b[0m\u001b[0;34m(\u001b[0m\u001b[0mnext\u001b[0m\u001b[0;34m(\u001b[0m\u001b[0mit\u001b[0m\u001b[0;34m)\u001b[0m\u001b[0;34m)\u001b[0m \u001b[0;31m# 已经访问完毕了，继续访问则会报错。\u001b[0m\u001b[0;34m\u001b[0m\u001b[0;34m\u001b[0m\u001b[0m\n\u001b[0m",
      "\u001b[0;31mStopIteration\u001b[0m: "
     ]
    }
   ],
   "source": [
    "l = [1, 2, 3, 4]\n",
    "\n",
    "it = l.__iter__() \n",
    "# it = iter(l) # 或者可以用magic function\n",
    "\n",
    "print(it)\n",
    "print(next(it))\n",
    "# print(it.__next__()) # 也可以调用一个magic function，效果是一样的。\n",
    "print(next(it))\n",
    "print(next(it))\n",
    "print(next(it))\n",
    "\n",
    "print(next(it)) # 已经访问完毕了，继续访问则会报错。"
   ]
  },
  {
   "cell_type": "markdown",
   "metadata": {},
   "source": [
    "这里其实就是一个iterator，迭代器的用法，如果学过C++的话，会对迭代器的概念比较熟悉。\n",
    "\n",
    "其实比较关键的就是__iter__和__next__这两个MagicFunction的实现。\n"
   ]
  },
  {
   "cell_type": "code",
   "execution_count": 69,
   "metadata": {
    "scrolled": false
   },
   "outputs": [
    {
     "name": "stdout",
     "output_type": "stream",
     "text": [
      "<__main__.my_List object at 0x7fe2fbc139e8>\n",
      "1\n",
      "2\n",
      "3\n",
      "4\n"
     ]
    },
    {
     "ename": "StopIteration",
     "evalue": "",
     "output_type": "error",
     "traceback": [
      "\u001b[0;31m---------------------------------------------------------------------------\u001b[0m",
      "\u001b[0;31mStopIteration\u001b[0m                             Traceback (most recent call last)",
      "\u001b[0;32m<ipython-input-69-205ad062226c>\u001b[0m in \u001b[0;36m<module>\u001b[0;34m\u001b[0m\n\u001b[1;32m     24\u001b[0m \u001b[0mprint\u001b[0m\u001b[0;34m(\u001b[0m\u001b[0mnext\u001b[0m\u001b[0;34m(\u001b[0m\u001b[0mit\u001b[0m\u001b[0;34m)\u001b[0m\u001b[0;34m)\u001b[0m\u001b[0;34m\u001b[0m\u001b[0;34m\u001b[0m\u001b[0m\n\u001b[1;32m     25\u001b[0m \u001b[0;34m\u001b[0m\u001b[0m\n\u001b[0;32m---> 26\u001b[0;31m \u001b[0mprint\u001b[0m\u001b[0;34m(\u001b[0m\u001b[0mnext\u001b[0m\u001b[0;34m(\u001b[0m\u001b[0mit\u001b[0m\u001b[0;34m)\u001b[0m\u001b[0;34m)\u001b[0m  \u001b[0;31m# 已经访问完毕了，继续访问则会报错。\u001b[0m\u001b[0;34m\u001b[0m\u001b[0;34m\u001b[0m\u001b[0m\n\u001b[0m",
      "\u001b[0;32m<ipython-input-69-205ad062226c>\u001b[0m in \u001b[0;36m__next__\u001b[0;34m(self)\u001b[0m\n\u001b[1;32m     11\u001b[0m             \u001b[0;32mreturn\u001b[0m \u001b[0mself\u001b[0m\u001b[0;34m.\u001b[0m\u001b[0ml\u001b[0m\u001b[0;34m.\u001b[0m\u001b[0mpop\u001b[0m\u001b[0;34m(\u001b[0m\u001b[0;34m)\u001b[0m\u001b[0;34m\u001b[0m\u001b[0;34m\u001b[0m\u001b[0m\n\u001b[1;32m     12\u001b[0m         \u001b[0;32melse\u001b[0m\u001b[0;34m:\u001b[0m\u001b[0;34m\u001b[0m\u001b[0;34m\u001b[0m\u001b[0m\n\u001b[0;32m---> 13\u001b[0;31m             \u001b[0;32mraise\u001b[0m \u001b[0mStopIteration\u001b[0m\u001b[0;34m\u001b[0m\u001b[0;34m\u001b[0m\u001b[0m\n\u001b[0m\u001b[1;32m     14\u001b[0m \u001b[0;34m\u001b[0m\u001b[0m\n\u001b[1;32m     15\u001b[0m \u001b[0;34m\u001b[0m\u001b[0m\n",
      "\u001b[0;31mStopIteration\u001b[0m: "
     ]
    }
   ],
   "source": [
    "class my_List(object):\n",
    "    def __init__(self):\n",
    "        self.l = [1, 2, 3, 4]\n",
    "        self.l.reverse()  # 这里用的pop，是从后面开始的\n",
    "\n",
    "    def __iter__(self):\n",
    "        return self\n",
    "\n",
    "    def __next__(self):\n",
    "        if len(self.l) > 0:\n",
    "            return self.l.pop()\n",
    "        else:\n",
    "            raise StopIteration\n",
    "\n",
    "\n",
    "it = my_List().__iter__()\n",
    "# it = iter(l) # 或者可以用magic function\n",
    "\n",
    "print(it)\n",
    "print(next(it))\n",
    "# print(it.__next__()) # 也可以调用一个magic function，效果是一样的。\n",
    "print(next(it))\n",
    "print(next(it))\n",
    "print(next(it))\n",
    "\n",
    "print(next(it))  # 已经访问完毕了，继续访问则会报错。"
   ]
  },
  {
   "cell_type": "code",
   "execution_count": 70,
   "metadata": {
    "scrolled": true
   },
   "outputs": [
    {
     "name": "stdout",
     "output_type": "stream",
     "text": [
      "1\n",
      "2\n",
      "3\n",
      "4\n"
     ]
    }
   ],
   "source": [
    "# 也可以使用for来处理\n",
    "l = my_List()\n",
    "for i in l:\n",
    "    print(i)"
   ]
  },
  {
   "cell_type": "markdown",
   "metadata": {},
   "source": [
    "可以看到，这里的自定方式，实现的这个my_List在特定情况下可以当作List使用，但是这种语法有些繁琐，因此python中专门提供了generator生成器语法。"
   ]
  },
  {
   "cell_type": "code",
   "execution_count": 71,
   "metadata": {
    "scrolled": true
   },
   "outputs": [
    {
     "name": "stdout",
     "output_type": "stream",
     "text": [
      "1\n",
      "2\n",
      "3\n",
      "4\n",
      "<generator object my_list at 0x7fe2fc7b3228>\n",
      "1\n",
      "2\n",
      "3\n",
      "4\n"
     ]
    },
    {
     "ename": "StopIteration",
     "evalue": "",
     "output_type": "error",
     "traceback": [
      "\u001b[0;31m---------------------------------------------------------------------------\u001b[0m",
      "\u001b[0;31mStopIteration\u001b[0m                             Traceback (most recent call last)",
      "\u001b[0;32m<ipython-input-71-2660bea837ad>\u001b[0m in \u001b[0;36m<module>\u001b[0;34m\u001b[0m\n\u001b[1;32m     22\u001b[0m \u001b[0mprint\u001b[0m\u001b[0;34m(\u001b[0m\u001b[0mnext\u001b[0m\u001b[0;34m(\u001b[0m\u001b[0mit\u001b[0m\u001b[0;34m)\u001b[0m\u001b[0;34m)\u001b[0m\u001b[0;34m\u001b[0m\u001b[0;34m\u001b[0m\u001b[0m\n\u001b[1;32m     23\u001b[0m \u001b[0;34m\u001b[0m\u001b[0m\n\u001b[0;32m---> 24\u001b[0;31m \u001b[0mprint\u001b[0m\u001b[0;34m(\u001b[0m\u001b[0mnext\u001b[0m\u001b[0;34m(\u001b[0m\u001b[0mit\u001b[0m\u001b[0;34m)\u001b[0m\u001b[0;34m)\u001b[0m  \u001b[0;31m# 已经访问完毕了，继续访问则会报错。\u001b[0m\u001b[0;34m\u001b[0m\u001b[0;34m\u001b[0m\u001b[0m\n\u001b[0m",
      "\u001b[0;31mStopIteration\u001b[0m: "
     ]
    }
   ],
   "source": [
    "def my_list():\n",
    "    for i in [1,2,3,4]:\n",
    "        yield i # generator看上去就像是一个普通的函数，只不过把return替换成了yield\n",
    "\n",
    "# 每次执行到yield的时候，函数会胡返回一个值，但是并不结束\n",
    "# 而是把中间状态都保存起来，只要后续还有数据就可以继续访问\n",
    "        \n",
    "l = my_list()\n",
    "\n",
    "for i in l:\n",
    "    print(i)\n",
    "    \n",
    "    \n",
    "it = my_list().__iter__()\n",
    "# it = iter(l) # 或者可以用magic function\n",
    "\n",
    "print(it)\n",
    "print(next(it))\n",
    "# print(it.__next__()) # 也可以调用一个magic function，效果是一样的。\n",
    "print(next(it))\n",
    "print(next(it))\n",
    "print(next(it))\n",
    "\n",
    "print(next(it))  # 已经访问完毕了，继续访问则会报错。"
   ]
  },
  {
   "cell_type": "markdown",
   "metadata": {},
   "source": [
    "### 异常处理\n",
    "\n",
    "对于一个面向对象的通用编程语言来说，异常处理也是一个重要的部分。\n",
    "\n",
    "python的异常处理使用try except的语法."
   ]
  },
  {
   "cell_type": "code",
   "execution_count": 73,
   "metadata": {},
   "outputs": [
    {
     "ename": "IndentationError",
     "evalue": "unindent does not match any outer indentation level (<tokenize>, line 8)",
     "output_type": "error",
     "traceback": [
      "\u001b[0;36m  File \u001b[0;32m\"<tokenize>\"\u001b[0;36m, line \u001b[0;32m8\u001b[0m\n\u001b[0;31m    try:\u001b[0m\n\u001b[0m    ^\u001b[0m\n\u001b[0;31mIndentationError\u001b[0m\u001b[0;31m:\u001b[0m unindent does not match any outer indentation level\n"
     ]
    }
   ],
   "source": [
    "a = 0\n",
    "b = 0\n",
    "try:\n",
    "    c = a / b\n",
    "except: # 最简单的语法,知道除了错误,但是不知道错误是啥\n",
    "    print(\"failed, but I dont't known why!\")\n",
    "\n",
    " try:\n",
    "    c = a / b\n",
    "except Exception as ex: # 最宽泛的exception捕获可以用Exception这个类来获取具体信息\n",
    "    print(\n",
    "        \"failed, don't know what type this exception is but I can get the detail:[{}]\"\n",
    "        .format(ex))\n",
    "    \n",
    "try:\n",
    "    c = a / b\n",
    "except ZeroDivisionError: # 明确知道错误是啥,但是不知道细节\n",
    "    print(\"failed, caused by ZeroDivisionError, but I don't know details!\")\n",
    "\n",
    "try:\n",
    "    c = a / b\n",
    "except ZeroDivisionError as ex: # 可以从错误中获取细节\n",
    "    print(\"failed, caused by ZeroDivisionError, details:[{}]\".format(ex))\n",
    ";\n",
    "try:\n",
    "    c = a / d\n",
    "except ZeroDivisionError as ex:\n",
    "    print(\"failed, caused by ZeroDivisionError, details:[{}]\".format(ex))\n",
    "except: # except 可以有多层\n",
    "    print(\"failed, not caused by ZeroDivisionError, I don't know why!\")\n",
    "\n",
    "try:\n",
    "    c = a / d\n",
    "except ZeroDivisionError as ex:\n",
    "    print(\"failed, caused by ZeroDivisionError, details:[{}]\".format(ex))\n",
    "except NameError as ex:\n",
    "        # except可以有好多层, 哪一层匹配到了这个错误就执行哪一层的代码\n",
    "        # 如果多层之间有继承关系,则被继承的exception一定放在后面\n",
    "    print(\"failed, caused by NameError, details:[{}]\".format(ex))\n",
    "\n",
    "try:\n",
    "    c = a / d\n",
    "except ZeroDivisionError as ex:\n",
    "    print(\"failed, caused by ZeroDivisionError, details:[{}]\".format(ex))\n",
    "except NameError as ex:\n",
    "    print(\"failed, caused by NameError, details:[{}]\".format(ex))\n",
    "except: # 如果前面几层都没匹配到,那么就执行这个最宽泛的exception捕获\n",
    "    print(\n",
    "        \"failed, not caused by ZeroDivisionError or NameError, I don't know why!\"\n",
    "    )\n",
    "finally:# 不管异常有没有执行,都可以放一些语句在这里执行,例如数据库关闭代码可以放这里\n",
    "    print(\"failed or not, this line will be executed!\")\n",
    "\n",
    "try:\n",
    "    raise OSError  # 可以用raise抛一个异常\n",
    "except ZeroDivisionError as ex:\n",
    "    print(\"failed, caused by ZeroDivisionError, details:[{}]\".format(ex))\n",
    "except NameError as ex:\n",
    "    print(\"failed, caused by NameError, details:[{}]\".format(ex))\n",
    "except:\n",
    "    print(\n",
    "        \"failed, not caused by ZeroDivisionError or NameError, I don't know why!\"\n",
    "    )\n",
    "finally:\n",
    "    print(\"failed or not, this line will be executed!\")\n",
    "\n",
    "try:\n",
    "    raise OSError(\n",
    "        \"don't know what to do, how about raise a exception\")  # 可以用raise抛一个异常\n",
    "except ZeroDivisionError as ex:\n",
    "    print(\"failed, caused by ZeroDivisionError, details:[{}]\".format(ex))\n",
    "except NameError as ex:\n",
    "    print(\"failed, caused by NameError, details:[{}]\".format(ex))\n",
    "except Exception as ex: # 最宽泛的exception捕获可以用Exception这个类来获取具体信息\n",
    "    print(\n",
    "        \"failed, don't know what type this exception is but I can get the detail:[{}]\"\n",
    "        .format(ex))\n",
    "finally:\n",
    "    print(\"failed or not, this line will be executed!\")"
   ]
  },
  {
   "cell_type": "code",
   "execution_count": 74,
   "metadata": {
    "scrolled": true
   },
   "outputs": [
    {
     "name": "stdout",
     "output_type": "stream",
     "text": [
      "failed, not caused by ZeroDivisionError or NameError, I don't know why!\n",
      "can't handle this error, so I decided to raise it again!\n",
      "failed or not, this line will be executed!\n"
     ]
    },
    {
     "ename": "ValueError",
     "evalue": "invalid literal for int() with base 10: 'ttt'",
     "output_type": "error",
     "traceback": [
      "\u001b[0;31m---------------------------------------------------------------------------\u001b[0m",
      "\u001b[0;31mValueError\u001b[0m                                Traceback (most recent call last)",
      "\u001b[0;32m<ipython-input-74-09246d39835d>\u001b[0m in \u001b[0;36m<module>\u001b[0;34m\u001b[0m\n\u001b[1;32m      1\u001b[0m \u001b[0;32mtry\u001b[0m\u001b[0;34m:\u001b[0m\u001b[0;34m\u001b[0m\u001b[0;34m\u001b[0m\u001b[0m\n\u001b[0;32m----> 2\u001b[0;31m     \u001b[0mc\u001b[0m \u001b[0;34m=\u001b[0m \u001b[0mint\u001b[0m\u001b[0;34m(\u001b[0m\u001b[0;34m'ttt'\u001b[0m\u001b[0;34m)\u001b[0m\u001b[0;34m\u001b[0m\u001b[0;34m\u001b[0m\u001b[0m\n\u001b[0m\u001b[1;32m      3\u001b[0m \u001b[0;32mexcept\u001b[0m \u001b[0mZeroDivisionError\u001b[0m \u001b[0;32mas\u001b[0m \u001b[0mex\u001b[0m\u001b[0;34m:\u001b[0m\u001b[0;34m\u001b[0m\u001b[0;34m\u001b[0m\u001b[0m\n\u001b[1;32m      4\u001b[0m     \u001b[0mprint\u001b[0m\u001b[0;34m(\u001b[0m\u001b[0;34m\"failed, caused by ZeroDivisionError, details:[{}]\"\u001b[0m\u001b[0;34m.\u001b[0m\u001b[0mformat\u001b[0m\u001b[0;34m(\u001b[0m\u001b[0mex\u001b[0m\u001b[0;34m)\u001b[0m\u001b[0;34m)\u001b[0m\u001b[0;34m\u001b[0m\u001b[0;34m\u001b[0m\u001b[0m\n\u001b[1;32m      5\u001b[0m \u001b[0;32mexcept\u001b[0m \u001b[0mNameError\u001b[0m \u001b[0;32mas\u001b[0m \u001b[0mex\u001b[0m\u001b[0;34m:\u001b[0m\u001b[0;34m\u001b[0m\u001b[0;34m\u001b[0m\u001b[0m\n",
      "\u001b[0;31mValueError\u001b[0m: invalid literal for int() with base 10: 'ttt'"
     ]
    }
   ],
   "source": [
    "try:\n",
    "    c = int('ttt')\n",
    "except ZeroDivisionError as ex:\n",
    "    print(\"failed, caused by ZeroDivisionError, details:[{}]\".format(ex))\n",
    "except NameError as ex:\n",
    "    print(\"failed, caused by NameError, details:[{}]\".format(ex))\n",
    "except:\n",
    "    print(\n",
    "        \"failed, not caused by ZeroDivisionError or NameError, I don't know why!\"\n",
    "    )\n",
    "    print(\"can't handle this error, so I decided to raise it again!\")\n",
    "    raise # 有的时候,静默处理exception是不可取的,这里记录了一下,然后又重新把这个异常抛了出来\n",
    "finally:\n",
    "    print(\"failed or not, this line will be executed!\")"
   ]
  },
  {
   "cell_type": "code",
   "execution_count": 75,
   "metadata": {},
   "outputs": [
    {
     "name": "stdout",
     "output_type": "stream",
     "text": [
      "<class 'ValueError'>\n",
      "this is a exp\n",
      "('this is a exp',)\n",
      "<FrameSummary file <ipython-input-75-7ef34ff4cc70>, line 5 in <module>>\n"
     ]
    }
   ],
   "source": [
    "# 默认的exception打印,获取的信息有限,调用一些内部的库,可以获得更多的信息.\n",
    "import traceback\n",
    "import sys\n",
    "try:\n",
    "    raise ValueError('this is a exp')\n",
    "except Exception as ex:\n",
    "    ex_type, ex_val, ex_stack = sys.exc_info()\n",
    "    print(ex_type)\n",
    "    print(ex_val)\n",
    "    print(ex.args)\n",
    "    for stack in traceback.extract_tb(ex_stack):\n",
    "        print(stack)"
   ]
  },
  {
   "cell_type": "markdown",
   "metadata": {},
   "source": [
    "更多关于异常处理的内容可以参考这里https://docs.python.org/3/tutorial/errors.html\n",
    "\n",
    "\n",
    "python内建了很多exception,这里列举如下,每个exception的详细信息请参考这里:\n",
    "https://docs.python.org/3/library/exceptions.html\n",
    "\n",
    "```sh\n",
    "BaseException\n",
    " +-- SystemExit\n",
    " +-- KeyboardInterrupt\n",
    " +-- GeneratorExit\n",
    " +-- Exception\n",
    "      +-- StopIteration\n",
    "      +-- StopAsyncIteration\n",
    "      +-- ArithmeticError\n",
    "      |    +-- FloatingPointError\n",
    "      |    +-- OverflowError\n",
    "      |    +-- ZeroDivisionError\n",
    "      +-- AssertionError\n",
    "      +-- AttributeError\n",
    "      +-- BufferError\n",
    "      +-- EOFError\n",
    "      +-- ImportError\n",
    "      |    +-- ModuleNotFoundError\n",
    "      +-- LookupError\n",
    "      |    +-- IndexError\n",
    "      |    +-- KeyError\n",
    "      +-- MemoryError\n",
    "      +-- NameError\n",
    "      |    +-- UnboundLocalError\n",
    "      +-- OSError\n",
    "      |    +-- BlockingIOError\n",
    "      |    +-- ChildProcessError\n",
    "      |    +-- ConnectionError\n",
    "      |    |    +-- BrokenPipeError\n",
    "      |    |    +-- ConnectionAbortedError\n",
    "      |    |    +-- ConnectionRefusedError\n",
    "      |    |    +-- ConnectionResetError\n",
    "      |    +-- FileExistsError\n",
    "      |    +-- FileNotFoundError\n",
    "      |    +-- InterruptedError\n",
    "      |    +-- IsADirectoryError\n",
    "      |    +-- NotADirectoryError\n",
    "      |    +-- PermissionError\n",
    "      |    +-- ProcessLookupError\n",
    "      |    +-- TimeoutError\n",
    "      +-- ReferenceError\n",
    "      +-- RuntimeError\n",
    "      |    +-- NotImplementedError\n",
    "      |    +-- RecursionError\n",
    "      +-- SyntaxError\n",
    "      |    +-- IndentationError\n",
    "      |         +-- TabError\n",
    "      +-- SystemError\n",
    "      +-- TypeError\n",
    "      +-- ValueError\n",
    "      |    +-- UnicodeError\n",
    "      |         +-- UnicodeDecodeError\n",
    "      |         +-- UnicodeEncodeError\n",
    "      |         +-- UnicodeTranslateError\n",
    "      +-- Warning\n",
    "           +-- DeprecationWarning\n",
    "           +-- PendingDeprecationWarning\n",
    "           +-- RuntimeWarning\n",
    "           +-- SyntaxWarning\n",
    "           +-- UserWarning\n",
    "           +-- FutureWarning\n",
    "           +-- ImportWarning\n",
    "           +-- UnicodeWarning\n",
    "           +-- BytesWarning\n",
    "           +-- ResourceWarning\n",
    "   ```"
   ]
  },
  {
   "cell_type": "markdown",
   "metadata": {},
   "source": [
    "### 文件IO\n",
    "\n",
    "作为一门通用编程语言,python也有相应的IO实现,以下是python读取文件的一些示例"
   ]
  },
  {
   "cell_type": "code",
   "execution_count": 76,
   "metadata": {
    "scrolled": true
   },
   "outputs": [
    {
     "name": "stdout",
     "output_type": "stream",
     "text": [
      "123\n",
      "456\n",
      "12345\n",
      "['123\\n', '456\\n', '12345']\n",
      "123\n",
      "\n",
      "456\n",
      "\n",
      "12345\n",
      "123\n",
      "456\n",
      "12345abc\n",
      "def\n",
      "abcde\n",
      "b'abc\\ndef\\nabcde'\n"
     ]
    }
   ],
   "source": [
    "f = open('test.txt', mode='w')  # w 是写入的意思,如果文件已经存在,会被清空\n",
    "f.write('123\\n')  # 这个write是不会自带换行的\n",
    "f.write('456\\n')\n",
    "f.writelines(['1', '2', '3', '4', '5'])\n",
    "f.close()  # 打开的文件一定要关闭\n",
    "\n",
    "f = open('test.txt')  # mode默认是r,这里省略了\n",
    "print(f.read())  #一次把所有东西都打印出来\n",
    "f.close()\n",
    "\n",
    "f = open('test.txt')  # mode默认是r,这里省略了\n",
    "print(f.readlines())  #读取所有的行,以列表形式返回\n",
    "f.close()\n",
    "\n",
    "f = open('test.txt')  # mode默认是r,这里省略了\n",
    "for l in f:\n",
    "    print(l)  # 还可以用for in 的方式访问文件,注意print会默认添加一个换行,而l也自带换行\n",
    "f.close()\n",
    "\n",
    "f = open('test.txt', mode='a')  # a是添加,不会清空现在文件的内容\n",
    "f.write('abc\\n')  # 这个write是不会自带换行的\n",
    "f.write('def\\n')\n",
    "f.writelines(['a', 'b', 'c', 'd', 'e'])\n",
    "f.close()  # 打开的文件一定要关闭\n",
    "\n",
    "f = open('test.txt')  # mode默认是r,这里省略了\n",
    "print(f.read())  #一次把所有东西都打印出来\n",
    "f.close()\n",
    "\n",
    "f = open('test.txt', mode='wb')  # 文件默认是文本默认打开,也可以用二进制模式打开\n",
    "f.write('abc\\n'.encode())  # 二进制文件只能接受二进制写入\n",
    "f.write('def\\n'.encode())\n",
    "f.writelines([b'a', b'b', b'c', b'd', b'e'])\n",
    "f.close()  # 打开的文件一定要关闭\n",
    "\n",
    "f = open('test.txt', mode='rb')  # 文件以二进制读取\n",
    "print(f.read())  #读出来的就都是二进制数据\n",
    "f.close()"
   ]
  },
  {
   "cell_type": "markdown",
   "metadata": {},
   "source": [
    "打开的文件一定要关闭,不然会出现未知的问题,同时在程序运行中,文件会一直处于被占用状态.\n",
    "\n",
    "在小型程序中,文件的访问影响比较小,如果没有小心处理文件的关闭,可能也不会造成太大的问题,但是复杂大型系统里面,文件处理不好会是极大的隐患.\n",
    "\n",
    "上述文件open/close的逻辑多少有些繁琐,而且文件的打开关闭不在同一个地方,打开了忘记关闭是在所难免的.因此,python中也有with语法,可以自动的处理文件的打开和关闭,在with语句中的文件,直接使用即可,不再需要手动调用close,处理关闭问题.极大的方便了文件的处理."
   ]
  },
  {
   "cell_type": "code",
   "execution_count": 77,
   "metadata": {},
   "outputs": [
    {
     "name": "stdout",
     "output_type": "stream",
     "text": [
      "b'abc\\ndef\\nabcde'\n"
     ]
    }
   ],
   "source": [
    "with open('test.txt', mode='rb')  as f:\n",
    "    print(f.read())"
   ]
  },
  {
   "cell_type": "markdown",
   "metadata": {},
   "source": [
    "这里介绍的文件操作比较基础,远不是python中文件IO的全部,但是像其他编程语言一样,我们很少有机会直接处理IO操作,大都是通过相应的库来处理特定格式的文件操作.所以python的IO,更多的是跟各种库打交道"
   ]
  },
  {
   "cell_type": "markdown",
   "metadata": {},
   "source": [
    "### context manager\n",
    "\n",
    "\n",
    "可以看到，上述的IO操作中，with语法可以极大的简化代码。在python中，此种语法称作context manager。\n",
    "\n",
    "一个context manager中，最重要的是\\_\\_enter\\_\\_和\\_\\_exit\\_\\_两个方法，这个两个方法分别用于处理资源的初始化和资源的清理，实现这两个方法并适当的处理资源就可以。"
   ]
  },
  {
   "cell_type": "code",
   "execution_count": 22,
   "metadata": {},
   "outputs": [
    {
     "name": "stdout",
     "output_type": "stream",
     "text": [
      "starting with block\n",
      "abc\n",
      "def\n",
      "abcde\n",
      "exited normally\n",
      "\n",
      "##########\n",
      "starting with block\n",
      "try raise a error\n",
      "raise an exception! <class 'ValueError'>\n",
      "ValueError raised\n",
      "##########\n",
      "starting with block\n",
      "try raise a error\n",
      "raise an exception! <class 'ValueError'>\n"
     ]
    }
   ],
   "source": [
    "class my_open:\n",
    "    def __init__(self, path, suppress=False):\n",
    "        self.path = path\n",
    "        self.suppress = suppress\n",
    "\n",
    "    def read(self):\n",
    "        return self.f.read()\n",
    "\n",
    "    def fail(self):\n",
    "        print('try raise a error')\n",
    "        raise ValueError\n",
    "\n",
    "    def __enter__(self):\n",
    "        '''\n",
    "        enter 可以返回self或者其他什么东西\n",
    "        在with语法中，如果有as，那么这里返回的内容会被绑定到as后面的变量上面\n",
    "        '''\n",
    "        print('starting with block')\n",
    "        self.f = open(self.path)\n",
    "        return self\n",
    "\n",
    "    def __exit__(self, exc_type, exc_value, exc_tb):\n",
    "        '''\n",
    "        如果在context manager运行的过程中出现了异常，那么异常会被传入exit作为判断的依据\n",
    "        exit返回False则认为context manager失败了，这些异常会被直接重新抛出\n",
    "        但是如果exit里面处理了这些异常，而且返回了一个True，那么这些异常将不会再向外传递\n",
    "        '''\n",
    "        self.f.close()\n",
    "\n",
    "        if exc_type is None:\n",
    "            print('exited normally\\n')\n",
    "        else:\n",
    "            print('raise an exception! ' + str(exc_type))\n",
    "\n",
    "        return self.suppress\n",
    "\n",
    "\n",
    "with my_open('test.txt') as f:\n",
    "    print(f.read())\n",
    "\n",
    "print('#'*10)\n",
    "\n",
    "try:\n",
    "    with my_open('test.txt') as f:\n",
    "        f.fail()\n",
    "except ValueError:\n",
    "    print('ValueError raised')\n",
    "\n",
    "print('#'*10)\n",
    "\n",
    "try:\n",
    "    with my_open('test.txt', suppress=True) as f:\n",
    "        f.fail()\n",
    "except ValueError:\n",
    "    print('ValueError raised')\n"
   ]
  },
  {
   "cell_type": "markdown",
   "metadata": {},
   "source": [
    "很多时候，自己写一个context manager是很麻烦的，所以python中提供了contextlib来处理context manager的编写。详情请参考contextlib的文档。\n",
    "\n",
    ">事实上，大部分的场景使用各种库的context manager就好了，很少会碰到需要自己编写的情况。"
   ]
  },
  {
   "cell_type": "markdown",
   "metadata": {},
   "source": [
    "### map,filter,reduce\n",
    "\n",
    "这里介绍三个比较有趣的python内建操作,这三个操作经常与容器,lambda等联合使用,处理序列数据.\n"
   ]
  },
  {
   "cell_type": "markdown",
   "metadata": {},
   "source": [
    "回忆前面提到的list comphension,对于一个list,我们可以很方便的对其进行操作,例如求其每个元素的平方."
   ]
  },
  {
   "cell_type": "code",
   "execution_count": 78,
   "metadata": {},
   "outputs": [
    {
     "name": "stdout",
     "output_type": "stream",
     "text": [
      "[1, 4, 9, 16, 25, 36, 49, 64, 81]\n"
     ]
    }
   ],
   "source": [
    "l = [1,2,3,4,5,6,7,8,9]\n",
    "l_square = [e**2 for e in l]\n",
    "print(l_square)"
   ]
  },
  {
   "cell_type": "markdown",
   "metadata": {},
   "source": [
    "换一个方式可以这么做:"
   ]
  },
  {
   "cell_type": "code",
   "execution_count": 79,
   "metadata": {},
   "outputs": [
    {
     "name": "stdout",
     "output_type": "stream",
     "text": [
      "[1, 4, 9, 16, 25, 36, 49, 64, 81]\n"
     ]
    }
   ],
   "source": [
    "l_square  = list(map(lambda e:e**2, l))\n",
    "print(l_square)"
   ]
  },
  {
   "cell_type": "markdown",
   "metadata": {},
   "source": [
    "结果是一样的"
   ]
  },
  {
   "cell_type": "markdown",
   "metadata": {},
   "source": [
    "\n",
    "那么如果我要把这个list里面,所有的偶数找出来,该怎么做呢?"
   ]
  },
  {
   "cell_type": "code",
   "execution_count": 80,
   "metadata": {},
   "outputs": [
    {
     "name": "stdout",
     "output_type": "stream",
     "text": [
      "[2, 4, 6, 8]\n",
      "[2, 4, 6, 8]\n",
      "[2, 4, 6, 8]\n"
     ]
    }
   ],
   "source": [
    "# 这是最简单的思路,用for循环\n",
    "l_square = []\n",
    "for e in l:\n",
    "    if e % 2 == 0:\n",
    "        l_square.append(e)\n",
    "print(l_square)\n",
    "\n",
    "# 这是高级一点的,python方式.用comprehension\n",
    "l_square = [e for e in l if e % 2 == 0]\n",
    "print(l_square)\n",
    "\n",
    "# 这是这里要介绍的filter,注意filter返回的是一个filter object,需要用list去run一下\n",
    "l_square = list(filter(lambda e: e % 2 == 0, l))\n",
    "print(l_square)"
   ]
  },
  {
   "cell_type": "markdown",
   "metadata": {},
   "source": [
    "当然,看上述的例子,fitler方式的字符数量比comprehension的方式要多,这个例子里面,用filter并不那么合适."
   ]
  },
  {
   "cell_type": "markdown",
   "metadata": {},
   "source": [
    "再接着上面的例子,对于所有元素求和,该怎么做呢?"
   ]
  },
  {
   "cell_type": "code",
   "execution_count": 81,
   "metadata": {
    "scrolled": true
   },
   "outputs": [
    {
     "name": "stdout",
     "output_type": "stream",
     "text": [
      "45\n",
      "45\n"
     ]
    }
   ],
   "source": [
    "print(sum(l))  # 这其实是最简洁的方式\n",
    "from functools import reduce  # 相比于map filter,reduce没那么常用,所以被放在了functools里面\n",
    "print(reduce(lambda x, y: x + y, l))"
   ]
  },
  {
   "cell_type": "markdown",
   "metadata": {},
   "source": [
    "看完了例子,我们再来看看这三个函数的说明,这三个函数(其实map和filter是两个callable的class),都是用给定的函数对senquence(iterable的东西)进行操作.\n",
    "\n",
    "map接受的函数对senquence的每个元素操作并返回操作后的结果,map本身产生一个generator,用list可以取得generator的结果\n",
    "\n",
    "filter接受的函数对senquence的每个元素进行判断,并返回判断值,filet收集这些判断,并根据判断给出一个generator,这个generator用list获取之后,剩下的是filter接受的函数,返回True的那些元素\n",
    "\n",
    "reduce最特殊,他会接受一个有两个输入的函数,两个输入会在这个函数里面进行一定的运算,返回一个值,而这个值会被用来跟这个sequence的下一个值继续进行运算,直到所有的senquce元素都被处理完,reduce不会返回generator,而是直接返回最终值"
   ]
  },
  {
   "cell_type": "code",
   "execution_count": 82,
   "metadata": {
    "scrolled": false
   },
   "outputs": [
    {
     "name": "stdout",
     "output_type": "stream",
     "text": [
      "Help on class map in module builtins:\n",
      "\n",
      "class map(object)\n",
      " |  map(func, *iterables) --> map object\n",
      " |  \n",
      " |  Make an iterator that computes the function using arguments from\n",
      " |  each of the iterables.  Stops when the shortest iterable is exhausted.\n",
      " |  \n",
      " |  Methods defined here:\n",
      " |  \n",
      " |  __getattribute__(self, name, /)\n",
      " |      Return getattr(self, name).\n",
      " |  \n",
      " |  __iter__(self, /)\n",
      " |      Implement iter(self).\n",
      " |  \n",
      " |  __next__(self, /)\n",
      " |      Implement next(self).\n",
      " |  \n",
      " |  __reduce__(...)\n",
      " |      Return state information for pickling.\n",
      " |  \n",
      " |  ----------------------------------------------------------------------\n",
      " |  Static methods defined here:\n",
      " |  \n",
      " |  __new__(*args, **kwargs) from builtins.type\n",
      " |      Create and return a new object.  See help(type) for accurate signature.\n",
      "\n",
      "Help on class filter in module builtins:\n",
      "\n",
      "class filter(object)\n",
      " |  filter(function or None, iterable) --> filter object\n",
      " |  \n",
      " |  Return an iterator yielding those items of iterable for which function(item)\n",
      " |  is true. If function is None, return the items that are true.\n",
      " |  \n",
      " |  Methods defined here:\n",
      " |  \n",
      " |  __getattribute__(self, name, /)\n",
      " |      Return getattr(self, name).\n",
      " |  \n",
      " |  __iter__(self, /)\n",
      " |      Implement iter(self).\n",
      " |  \n",
      " |  __next__(self, /)\n",
      " |      Implement next(self).\n",
      " |  \n",
      " |  __reduce__(...)\n",
      " |      Return state information for pickling.\n",
      " |  \n",
      " |  ----------------------------------------------------------------------\n",
      " |  Static methods defined here:\n",
      " |  \n",
      " |  __new__(*args, **kwargs) from builtins.type\n",
      " |      Create and return a new object.  See help(type) for accurate signature.\n",
      "\n",
      "Help on built-in function reduce in module _functools:\n",
      "\n",
      "reduce(...)\n",
      "    reduce(function, sequence[, initial]) -> value\n",
      "    \n",
      "    Apply a function of two arguments cumulatively to the items of a sequence,\n",
      "    from left to right, so as to reduce the sequence to a single value.\n",
      "    For example, reduce(lambda x, y: x+y, [1, 2, 3, 4, 5]) calculates\n",
      "    ((((1+2)+3)+4)+5).  If initial is present, it is placed before the items\n",
      "    of the sequence in the calculation, and serves as a default when the\n",
      "    sequence is empty.\n",
      "\n"
     ]
    }
   ],
   "source": [
    "help(map)\n",
    "help(filter)\n",
    "help(reduce)"
   ]
  },
  {
   "cell_type": "markdown",
   "metadata": {},
   "source": [
    "鉴于reduce可能不太好理解,我们再来看一个例子."
   ]
  },
  {
   "cell_type": "code",
   "execution_count": 83,
   "metadata": {
    "scrolled": true
   },
   "outputs": [
    {
     "name": "stdout",
     "output_type": "stream",
     "text": [
      "characters of input string are:h,e,l,l,o, ,w,o,r,l,d,\n"
     ]
    }
   ],
   "source": [
    "start = 'characters of input string are:'\n",
    "string = 'hello world'\n",
    "\n",
    "print(reduce(lambda x, y: x + '{},'.format(y), string, start))"
   ]
  },
  {
   "cell_type": "markdown",
   "metadata": {},
   "source": [
    "### 多线程,多进程\n",
    "\n",
    "#### GIL\n",
    "在介绍python的多线程,多进程之前,首先来了解一下python里面最大的一个坑,也是最为其他语言和框架的使用者诟病的一点:GIL(global interpreter lock):\n",
    "\n",
    "python是一个语言的规范，目前广泛使用的的是一种叫做CPython的实现。CPython实现的python解释器里面有个全局解释器锁（Global Interpreter Lock）GIL，这个东西本身并不是python规范里面的东西，所以罪魁祸首不是python，而是CPython。CPython的市场最大，所以一般提python就是CPython，本文未加区别。其他一些实现如JPython（跑在JVM上）或者IronPython（跑在.Net上）没有GIL问题。\n",
    "\n",
    "目前CPU都是多核的，为了利用多核，就出现了多线程技术。而多线程技术处在同一个进程中，为所有线程共有，所以数据同步是一个非常严峻的问题。python中为了简化这个问题，引入了一个非常navie的方案，就是全局加锁，interpreter在执行代码的时候，同一时刻，只执行一个线程的代码，并且规定一个线程的代码在执行一段时间后，必须释放interpreter，切换到另一个线程执行。所以很多时候可以认为python是单线程执行的。同时由于获取释放锁的开销，导致了python的多线程性能在CPU密集的任务中表现极其糟糕。\n",
    "\n",
    "当然只是在CPU密集的任务上，IO密集的任务由于IO操作不涉及线程切换，所以使用多线程是可以有效的提高效率的。\n",
    "同时,python的多进程是开启了多个进程,每个进程都有一个python的interpreter,所以能够充分的利用多核提升CPU密集型任务的运算性能.\n",
    "\n",
    "\n",
    "> GIL是一个历史遗留问题，很多库都有意无意的利用了GIL，大大简化了多线程代码的设计。库太多导致GIL暂时没有很好的解决方案。需要注意的是，GIL问题只存在与于python的解释器中，很多操作，如opencv的图片处理，是用C/C++写的，不在GIL的控制范围内，所以没有性能问题。\n",
    "\n",
    ">Tensorflow/pyTorch/mxnet等深度学习框架,其compute engine也是C++实现的,本身不再python的程序空间内,所以也没有GIL的性能问题."
   ]
  },
  {
   "cell_type": "markdown",
   "metadata": {},
   "source": [
    "python自带的multiprocessing库提供了很好的对多线程/多进程的支持,而且简单易用.\n",
    "\n",
    "尝试计算"
   ]
  },
  {
   "cell_type": "code",
   "execution_count": 84,
   "metadata": {
    "scrolled": true
   },
   "outputs": [
    {
     "name": "stdout",
     "output_type": "stream",
     "text": [
      "[0, 1, 3, 6, 10, 15, 21, 28, 36, 45]\n",
      "[0, 1, 3, 6, 10, 15, 21, 28, 36, 45]\n"
     ]
    }
   ],
   "source": [
    "def count(num):\n",
    "    '''\n",
    "    计算从0到num的所有整数的和\n",
    "    '''\n",
    "    var = 0\n",
    "    for i in range(num + 1):\n",
    "        var = var + i\n",
    "    return var\n",
    "\n",
    "\n",
    "from multiprocessing.dummy import Pool as ThreadPool  # 多线程执行,dummy是伪多进程也就是多线程\n",
    "p = ThreadPool()  # 创建一个线程池\n",
    "results = p.map(count, range(10))  # 把任务放入线程池\n",
    "p.close()  # 关闭线程池\n",
    "p.join()  # 等待线程池的所有任务完成\n",
    "print(results)  # 取得结果\n",
    "\n",
    "# 把线程换成进程就是下面的操作\n",
    "from multiprocessing import Pool as ProcessPool  # 多进程执行\n",
    "p = ProcessPool()\n",
    "results = p.map(count, range(10))\n",
    "p.close()\n",
    "p.join()\n",
    "\n",
    "print(results)"
   ]
  },
  {
   "cell_type": "markdown",
   "metadata": {},
   "source": [
    "可以看到,python中最方便的多线程,多进程,还是围绕senquence,map等建立的. 其实这种类型的代码,被称为pythonic的代码,其代码比较简洁,而且运行效率也比较高."
   ]
  },
  {
   "cell_type": "markdown",
   "metadata": {},
   "source": [
    "上述方案方便是方便,但是有些时候自由度不够,python里面其实也提供了线程基类供继承,也就是threading.Thread"
   ]
  },
  {
   "cell_type": "code",
   "execution_count": 85,
   "metadata": {
    "scrolled": true
   },
   "outputs": [
    {
     "name": "stdout",
     "output_type": "stream",
     "text": [
      "child process is workingTrue\n",
      "\n",
      "child process is working\n",
      "child process is working\n",
      "child process is working\n",
      "child process is working\n",
      "child process is working\n",
      "child process is working\n",
      "child process is working\n",
      "child process is working\n",
      "child process is working\n",
      "child process exited\n"
     ]
    }
   ],
   "source": [
    "from threading import Thread\n",
    "import time\n",
    "\n",
    "\n",
    "class myThread(Thread):\n",
    "    def run(self):  # 重载这一个函数,把所有的任务逻辑都放在这一个函数里面\n",
    "        for i in range(10):\n",
    "            print('child process is working')\n",
    "            time.sleep(1)\n",
    "\n",
    "\n",
    "my_thread = myThread()\n",
    "my_thread.start()  # 不是调用run,而是调用这个start去启动一个线程\n",
    "\n",
    "print(my_thread.is_alive())\n",
    "my_thread.join()\n",
    "# 等待子线程退出,如果没有这一句,那么主线程退出会直接干掉子线程\n",
    "# 不过我们这里是在一个python交互shell里面,最高主线程会一直存在\n",
    "print('child process exited')"
   ]
  },
  {
   "cell_type": "markdown",
   "metadata": {},
   "source": [
    "### 网络与爬虫\n",
    "\n",
    "因为python语法很简单,而且支持的库生态也足够庞大,所以python的应用领域也很广,目前比较大的一个领域是跟网络有关的,也就是python爬虫.\n",
    "\n",
    "不过爬虫的内容比较庞大,这里不涉及,有需要可以查询相关爬虫框架的文档."
   ]
  },
  {
   "cell_type": "markdown",
   "metadata": {},
   "source": [
    "关于网络,主要涉及socket和web访问,socket推荐使用pyzmq库,详情参考zmq官方文档:http://zguide.zeromq.org/page:all\n",
    "\n",
    "web访问推荐使用requests库,详情参考requests官方文档:https://pypi.org/project/requests/\n",
    "\n",
    ">目前requests的稳定版本是2.x系列,但是2020年pyCon之前requests3会发布,我也不太确定是什么时候."
   ]
  },
  {
   "cell_type": "markdown",
   "metadata": {},
   "source": [
    "**除非必要,尽量不要尝试自己使用python的内建socket和web访问api,多使用成熟的第三方库.因为python的生态足够庞大,很多时候,一个成熟高效的第三方库可以极大的加快开发的效率.**"
   ]
  },
  {
   "cell_type": "markdown",
   "metadata": {},
   "source": [
    "### package和import\n",
    "\n",
    "当代码比较少的时候,运行一个python shell,一个jupyter,或者单单一个python文件就能解决,一旦系统上了一定的规模,代码量比较大的时候,代码的组织管理就会变成一个足够影响整个项目的开发进度效率,甚至是项目生死的至关重要的问题.\n",
    "\n",
    "像其他的高级语言一样,python也内建了package管理机制,一般来说,一个py文件就是一个python的module.可以被import,像内建的module一样被调用\n",
    "\n",
    "一个目录，如果其下包含一个\\_\\_init\\_\\_.py文件的话，这个目录就是一个package，目录下的所有py文件都是这个package的成员。目录下如果还有子目录的话，仍然是有\\_\\_init\\_\\_.py的为子package，没有的只是普通文件夹。\n",
    "\n",
    "\\_\\_init\\_\\_.py文件可以为空，但是我们一般都在里面放一些初始化的代码。\n",
    "\n",
    "如果要把这个package作为一个module，直接运行的话，这个目录下，还需要有一个\\_\\_main\\_\\_.py文件。\n",
    "\n",
    "\n",
    "\n",
    "更多关于python模块的内容请参考：https://docs.python.org/3/tutorial/modules.html#intra-package-references"
   ]
  },
  {
   "cell_type": "markdown",
   "metadata": {},
   "source": [
    "# 参考\n",
    "- http://cs231n.github.io/python-numpy-tutorial/\n",
    "- https://github.com/kuleshov/cs228-material/blob/master/tutorials/python/cs228-python-tutorial.ipynb"
   ]
  },
  {
   "cell_type": "code",
   "execution_count": null,
   "metadata": {},
   "outputs": [],
   "source": []
  },
  {
   "cell_type": "code",
   "execution_count": null,
   "metadata": {},
   "outputs": [],
   "source": []
  }
 ],
 "metadata": {
  "kernelspec": {
   "display_name": "Python 3",
   "language": "python",
   "name": "python3"
  },
  "language_info": {
   "codemirror_mode": {
    "name": "ipython",
    "version": 3
   },
   "file_extension": ".py",
   "mimetype": "text/x-python",
   "name": "python",
   "nbconvert_exporter": "python",
   "pygments_lexer": "ipython3",
   "version": "3.7.3"
  },
  "toc": {
   "base_numbering": 1,
   "nav_menu": {},
   "number_sections": true,
   "sideBar": true,
   "skip_h1_title": false,
   "title_cell": "Table of Contents",
   "title_sidebar": "Contents",
   "toc_cell": false,
   "toc_position": {
    "height": "calc(100% - 180px)",
    "left": "10px",
    "top": "150px",
    "width": "240px"
   },
   "toc_section_display": true,
   "toc_window_display": true
  },
  "toc-autonumbering": true,
  "toc-showcode": false,
  "toc-showmarkdowntxt": false,
  "toc-showtags": false,
  "varInspector": {
   "cols": {
    "lenName": 16,
    "lenType": 16,
    "lenVar": 40
   },
   "kernels_config": {
    "python": {
     "delete_cmd_postfix": "",
     "delete_cmd_prefix": "del ",
     "library": "var_list.py",
     "varRefreshCmd": "print(var_dic_list())"
    },
    "r": {
     "delete_cmd_postfix": ") ",
     "delete_cmd_prefix": "rm(",
     "library": "var_list.r",
     "varRefreshCmd": "cat(var_dic_list()) "
    }
   },
   "types_to_exclude": [
    "module",
    "function",
    "builtin_function_or_method",
    "instance",
    "_Feature"
   ],
   "window_display": false
  }
 },
 "nbformat": 4,
 "nbformat_minor": 2
}
